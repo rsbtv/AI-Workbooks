{
 "cells": [
  {
   "cell_type": "markdown",
   "id": "d568b0b3",
   "metadata": {
    "pycharm": {
     "name": "#%% md\n"
    }
   },
   "source": [
    "# Рабочая тетрадь №7"
   ]
  },
  {
   "cell_type": "markdown",
   "id": "2ccb1507",
   "metadata": {
    "pycharm": {
     "name": "#%% md\n"
    }
   },
   "source": [
    "#### Теоретический материал – Нейронные сети\n",
    "Обучение персептрона\n",
    "Персептрон представляет собой элементарную часть нейронной сети.\n",
    "Одиночный персептрон является линейным бинарным классификатором. В этой лекции мы рассмотрим процедуру обучения персептрона для классификации данных. Поскольку персептрон представляет собой бинарный классификатор, то мы будем рассматривать лишь два класса.\n",
    "Пусть мы рассматриваем некоторое множество (конечное или бесконечное) n-мерных векторов, которые будем обозначать 𝑥 =(𝑥1, 𝑥2, . . . , 𝑥𝑛 )\n",
    "Будем считать, что это множество разбивается на два класса, которые мы будем обозначать +1 и -1. Поэтому возникает задача построения функции, которая задана на нашем множестве векторов, и принимает значения в множестве {+1, −1}. В качестве такой функции может выступать персептрон. С алгебраической точки зрения персептрон состоит из векторавесов 𝑤 = (𝑤0, 𝑤1, 𝑤2, . . . , 𝑤𝑛 )\n",
    "При этом персептрон работает по формуле\n",
    "𝑦 = 𝑠𝑖𝑔𝑛(𝑤0 + 𝑥1𝑤1 + 𝑥2𝑤2 + . . . + 𝑥𝑛𝑤𝑛 ),где функция 𝑠𝑖𝑔𝑛(𝑡) равна +1, если 𝑡 ≥ 0, и равна −1, если 𝑡 < 0.\n",
    "Приведем алгоритм обучения персептрона. Пусть у нас есть наборобучающих данных {(𝑥, 𝑑)}, где 𝑥 - это различные вектора, а 𝑑 из множества {+1, −1} указывает к какому классу относится наш вектор.\n",
    "1. Положим вектор весов 𝑤 равным нулю.\n",
    "2. Повторять 𝑁 раз следующие шаги:\n",
    "3. Для каждого тестового набора (𝑥, 𝑑):\n",
    "4. Вычислить 𝑦 = 𝑠𝑖𝑔𝑛[(𝑥, 𝑤)].\n",
    "5. Если 𝑦𝑑 < 0, то скорректировать веса 𝑤0 = 𝑤0 + 𝑎𝑑, 𝑤𝑖 =𝑤𝑖 + 𝑎𝑑𝑥𝑖, 𝑖 = 1,2, . . . , 𝑛.\n",
    "Описанный алгоритм довольно легко программировать."
   ]
  },
  {
   "cell_type": "markdown",
   "id": "48e985ab",
   "metadata": {
    "pycharm": {
     "name": "#%% md\n"
    }
   },
   "source": [
    "# 1.1.1 Пример"
   ]
  },
  {
   "cell_type": "markdown",
   "id": "441f793e",
   "metadata": {
    "pycharm": {
     "name": "#%% md\n"
    }
   },
   "source": [
    "Рассмотрим программу обучения персептрона на языке Python. Сначала\n",
    "рассмотрим основной класс персептрона, который умеет учиться по тестовым данным."
   ]
  },
  {
   "cell_type": "code",
   "execution_count": 12,
   "id": "06bc8aaf",
   "metadata": {
    "pycharm": {
     "name": "#%%\n"
    }
   },
   "outputs": [
    {
     "name": "stdout",
     "output_type": "stream",
     "text": [
      "[0.1, -0.1]\n",
      "-1\n",
      "1\n",
      "1\n",
      "-1\n"
     ]
    }
   ],
   "source": [
    "# класс, который реализует персептрон и его обучение\n",
    "class Perceptron:\n",
    "    def __init__(self, N):\n",
    "        #       создать нулевые веса\n",
    "        self.w = list()\n",
    "        for i in range(N):\n",
    "            self.w.append(0)\n",
    "\n",
    "    #   метод для вычисления значения перспетрона\n",
    "    def calc(self, x):\n",
    "        res = 0\n",
    "        for i in range(len(self.w)):\n",
    "            res = res + self.w[i] * x[i]\n",
    "        return res\n",
    "\n",
    "    #   пороговая ф-ция активации персептрона\n",
    "    def sign(self, x):\n",
    "        if self.calc(x) > 0:\n",
    "            return 1\n",
    "        else:\n",
    "            return -1\n",
    "\n",
    "    #   обучение на одном примере\n",
    "    def learn(self, la, x, y):\n",
    "        #       обучаем только, тогда когда результат неверный\n",
    "        if y * self.calc(x) <= 0:\n",
    "            for i in range(len(self.w)):\n",
    "                self.w[i] = self.w[i] + la * y * x[i]\n",
    "\n",
    "    #   обучение по всем данным Т - кортеж примеров\n",
    "    def learning(self, la, T):\n",
    "        #       цикл обучения\n",
    "        for n in range(100):\n",
    "            #           обучение по всему набору примеров\n",
    "            for t in T:\n",
    "                self.learn(la, t[0], t[1])\n",
    "\n",
    "\n",
    "# создаем класс двумерного персептрона\n",
    "perceptron = Perceptron(2)\n",
    "la = 0.1  #константа обучения\n",
    "# создаем примеры\n",
    "T = list()\n",
    "T.append([[2, 1], 1])\n",
    "T.append([[3, 2], 1])\n",
    "T.append([[4, 1], 1])\n",
    "T.append([[1, 2], -1])\n",
    "T.append([[2, 3], -1])\n",
    "T.append([[5, 7], -1])\n",
    "perceptron.learning(la, T)  #обучение персептрона\n",
    "print(perceptron.w)  #печатаем веса\n",
    "# проверим работу тестовых примеров\n",
    "print(perceptron.sign([1.5, 2]))\n",
    "print(perceptron.sign([3, 1.5]))\n",
    "print(perceptron.sign([5, 1]))\n",
    "print(perceptron.sign([5, 10]))"
   ]
  },
  {
   "cell_type": "markdown",
   "id": "55dd9d41",
   "metadata": {
    "pycharm": {
     "name": "#%% md\n"
    }
   },
   "source": [
    "# Теоретический материал – Реализация нейронной сети на Python"
   ]
  },
  {
   "cell_type": "markdown",
   "id": "2f1387f9",
   "metadata": {
    "pycharm": {
     "name": "#%% md\n"
    }
   },
   "source": [
    "   Нейронная сеть — это функциональная единица машинного или \n",
    "глубокого обучения. Она имитирует поведение человеческого мозга, \n",
    "поскольку основана на концепции биологических нейронных сетей.\n",
    "    Наиболее распространенный тип нейронной сети, называемый \n",
    "многослойным персептроном (MLP), представляет собой функцию, которая отображает входные данные в выходные данные. MLP имеет один входной\n",
    "слой и один выходной слой. Между ними может быть один или несколько \n",
    "скрытых слоев. Входной слой имеет тот же набор нейронов, что и признаки. \n",
    "Скрытые слои также могут иметь более одного нейрона. Каждый нейрон \n",
    "представляет собой линейную функцию, к которой применяется функция \n",
    "активации для решения сложных задач. Выход каждого слоя подается в \n",
    "качестве входных данных для всех нейронов следующих слоев.\n",
    "    Нейронные сети способны решать множество задач. В основном они \n",
    "состоят из таких компонентов:\n",
    "        − входной слой (получение и передача данных);\n",
    "        − скрытый слой (вычисление);\n",
    "        − выходной слой. Чтобы реализовать нейросеть, необходимо \n",
    "понимать, как ведут себя нейроны. Нейрон одновременно принимает несколько входов, обрабатывает эти данные и выдает один выход. Нейронная сеть представляет собой блоки ввода и вывода, где каждое соединение имеет соответствующие веса (это сила связи нейронов; чем вес больше, тем один нейрон сильнее влияет на другой). Данные всех входов умножаются на веса:\n",
    "        − 𝑥 → 𝑥 ∗ 𝑤1;\n",
    "        − 𝑦 → 𝑦 ∗ 𝑤2.\n",
    "    Входы после взвешивания суммируются с прибавлением значения порога «c»:\n",
    "        x𝑤1 + 𝑦𝑤2 + 𝑐\n",
    "    Полученное значение пропускается через функцию активации (сигмоиду), которая преобразует входы в один выход:\n",
    "        𝑧 = 𝑓(𝑥𝑤1 + 𝑦𝑤2 + 𝑐).\n",
    "        Так выглядит сигмоида:\n",
    "        \n",
    "   <img src=\"sigma.jpg\" />\n",
    "   \n",
    "   Интервал результатов сигмоиды — от 0 до 1. Отрицательные числа \n",
    "стремятся к нулю, а положительные — к единице.\n",
    "Например. Пусть нейрон имеет следующие значения: 𝑤 = [0,1] 𝑐 = 4.\n",
    "Входной слой: 𝑥 = 2, 𝑦 = 3.\n",
    "           ((𝑥𝑤1) + (𝑦𝑤2)) + 𝑐 = 20 + 31 + 4 = 7.\n",
    "                    𝑧 = 𝑓(7) = 0.99.\n",
    "        \n",
    "\n"
   ]
  },
  {
   "cell_type": "markdown",
   "id": "b77d1b3a",
   "metadata": {
    "pycharm": {
     "name": "#%% md\n"
    }
   },
   "source": [
    "# 1.1.2 Пример"
   ]
  },
  {
   "cell_type": "code",
   "execution_count": 13,
   "id": "4bc1b5ac",
   "metadata": {
    "pycharm": {
     "name": "#%%\n"
    }
   },
   "outputs": [
    {
     "name": "stdout",
     "output_type": "stream",
     "text": [
      "0.9990889488055994\n"
     ]
    }
   ],
   "source": [
    "import numpy as np\n",
    "\n",
    "\n",
    "def sigmoid(x):\n",
    "    #   ф-ция активации: f(x)=1/(1+e^(-x))\n",
    "    return 1 / (1 + np.exp(-x))\n",
    "\n",
    "\n",
    "class Neuron:\n",
    "    def __init__(self, weights, bias):\n",
    "        self.weights = weights\n",
    "        self.bias = bias\n",
    "\n",
    "    def feedforward(self, inputs):\n",
    "        total = np.dot(self.weights, inputs) + self.bias\n",
    "        return sigmoid(total)\n",
    "\n",
    "\n",
    "weights = np.array([0, 1])  #w1=0, w2=1\n",
    "bias = 4  #c=4\n",
    "n = Neuron(weights, bias)\n",
    "x = np.array([2, 3])  #x=2, y=3\n",
    "print(n.feedforward(x))  #0.9990889488055994"
   ]
  },
  {
   "cell_type": "markdown",
   "id": "db18c77f",
   "metadata": {
    "pycharm": {
     "name": "#%% md\n"
    }
   },
   "source": [
    "Нейросеть состоит из множества соединенных между собой нейронов. \n",
    "Пример несложной нейронной сети\n",
    "\n",
    "<img src=\"neuron.jpg\" />\n",
    "\n",
    "где:\n",
    "    𝑥1, 𝑥2 — входной слой;\n",
    "    ℎ1, ℎ2 — скрытый слой с двумя нейронами;\n",
    "    𝑜1 — выходной слой.\n",
    "Например. Представим, что нейроны из графика выше имеют веса \n",
    "[0, 1]. Пороговое значение (𝑏) у обоих нейронов равно 0 и они имеют \n",
    "идентичную сигмоиду.\n",
    "При входных данных 𝑥 = [2, 3] получим:\n",
    "ℎ1 = ℎ2 = 𝑓(𝑤𝑥 + 𝑏) = 𝑓((02) + (1 ∗ 3) + 0) = 𝑓(3) = 0.95.\n",
    "𝑜1 = 𝑓(𝑤 ∗ [ℎ1, ℎ2] + 𝑏) = 𝑓((0ℎ1) + (1ℎ2) + 0) = 𝑓(0.95) = 0.72.\n",
    "Входные данные по нейронам передаются до тех пор, пока не \n",
    "получатся выходные значения\n"
   ]
  },
  {
   "cell_type": "code",
   "execution_count": 14,
   "id": "1d6d0fc9",
   "metadata": {
    "pycharm": {
     "name": "#%%\n"
    }
   },
   "outputs": [
    {
     "name": "stdout",
     "output_type": "stream",
     "text": [
      "0.7216325609518421\n"
     ]
    }
   ],
   "source": [
    "import numpy as np\n",
    "\n",
    "\n",
    "class OurNeuralNetwork:\n",
    "    '''\n",
    "    Данные нейросети:\n",
    "        - два входа \n",
    "        - два нейрона в скрытых слоях (h1, h2) \n",
    "        - выход (o1)\n",
    "    Нейроны имеют идентичные веса и пороги:\n",
    "        - w = [0, 1]\n",
    "        - b = 0\n",
    "    '''\n",
    "\n",
    "    def __init__(self):\n",
    "        weights = np.array([0, 1])\n",
    "        bias = 0\n",
    "        # Класс Neuron из предыдущего раздела \n",
    "        self.h1 = Neuron(weights, bias)\n",
    "        self.h2 = Neuron(weights, bias)\n",
    "        self.o1 = Neuron(weights, bias)\n",
    "\n",
    "    def feedforward(self, x):\n",
    "        out_h1 = self.h1.feedforward(x)\n",
    "        out_h2 = self.h2.feedforward(x)\n",
    "        # Входы для o1 - это выходы h1 u h2 \n",
    "        out_o1 = self.o1.feedforward(np.array([out_h1, out_h2]))\n",
    "        return out_o1\n",
    "\n",
    "\n",
    "network = OurNeuralNetwork()\n",
    "x = np.array([2, 3])\n",
    "print(network.feedforward(x))  # 0.7216325609518421"
   ]
  },
  {
   "cell_type": "markdown",
   "id": "a7fee1bd",
   "metadata": {
    "pycharm": {
     "name": "#%% md\n"
    }
   },
   "source": [
    "# Теоретический материал – Обучение нейронной сети"
   ]
  },
  {
   "cell_type": "markdown",
   "id": "7a838dc4",
   "metadata": {
    "pycharm": {
     "name": "#%% md\n"
    }
   },
   "source": [
    "Обучение нейросети — это подбор весов, которые соответствуют всем \n",
    "входам для решения поставленных задач.\n",
    "Класс нейронной сети:\n",
    "<img src=\"neuralnetwork.jpg\">\n",
    "Каждый этап процесса обучения состоит из:\n",
    "− прямого распространения (прогнозируемый выход);\n",
    "− обратного распространения (обновление весов и смещений).\n",
    "Например:\n",
    "Дана двуслойная нейросеть:\n",
    "ŷ = 𝜎(𝑤2𝜎(𝑤1𝑥 + 𝑏1) + 𝑏2).\n",
    "В данном случае на выход ŷ влияют только две переменные — 𝑤 (веса) и 𝑏(смещение). Настройку весов и смещений из данных входа или процесс обучения нейросети можно изобразить так:\n",
    "<img src=\"s1.jpg\">\n",
    "\n",
    "**Прямое распространение.**\n",
    "\n",
    "Как видно, формула прямого распространения представляет собой \n",
    "несложное вычисление:\n",
    "   ŷ = 𝜎(𝑤2𝜎(𝑤1𝑥 + 𝑏1) + 𝑏2)\n",
    "   Далее необходимо добавить в код функцию прямого распространения. \n",
    "Предположим, что смещения в этом случае будут равны 0\n",
    "<img src=\"neuralnetwork1.jpg\">\n",
    "Чтобы вычислить ошибку прогноза, необходимо использовать функцию \n",
    "потери. В примере уместно воспользоваться формулой суммы квадратов \n",
    "ошибок — средним значением между прогнозируемым и фактическим \n",
    "результатами:\n",
    "<img src=\"formula.jpg\">\n",
    "\n",
    "**Обратное распространение**\n",
    "Обратное распространение позволяет измерить производные в \n",
    "обратном порядке — от конца к началу, и скорректировать веса и смещения. \n",
    "Для этого необходимо узнать производную функции потери — тангенс угла наклона.\n",
    "<img src=\"graphik.jpg\">\n",
    "\n",
    "Производная функции по отношению к весам и смещениям позволяет \n",
    "узнать градиентный спуск. Производная функции потери не содержит весов и смещений, для ее вычисления необходимо добавить правило цепи:\n",
    "<img src=\"formula1.jpg\">\n",
    "\n",
    "Благодаря этому правилу можно регулировать веса. Добавляем в код \n",
    "Python функцию обратного распространения:\n",
    "<img src=\"code.jpg\">\n",
    "Нейронные сети базируются на определенных алгоритмах и математических функциях. Сначала может казаться, что разобраться в них довольно сложно. Но существуют готовые библиотеки машинного обучения для построения и тренировки нейросетей, позволяющие не углубляться в их устройство."
   ]
  },
  {
   "cell_type": "markdown",
   "id": "bb6624e6",
   "metadata": {
    "pycharm": {
     "name": "#%% md\n"
    }
   },
   "source": [
    "# Задание:"
   ]
  },
  {
   "cell_type": "markdown",
   "id": "4ea96b7d",
   "metadata": {
    "pycharm": {
     "name": "#%% md\n"
    }
   },
   "source": [
    "Реализовать классы нейросетей по аналогии с классом OurNeuralNetwork. \n",
    "Данные нейросети:\n",
    "− три входа (𝑥1, 𝑥2, 𝑥3);\n",
    "− три нейрона в скрытых слоях (ℎ1, ℎ2, ℎ3);\n",
    "− выход (𝑜1).\n",
    "Нейроны имеют идентичные веса и пороги:\n",
    "− 𝑤 = [0.5, 0.5, 0.5]\n",
    "− 𝑏 = 0\n",
    "Данные нейросети:\n",
    "− два входа (𝑥1, 𝑥2);\n",
    "− два нейрона в скрытых слоях (ℎ1, ℎ2);\n",
    "− два выхода (𝑜1, 𝑜2).\n",
    "Нейроны имеют идентичные веса и пороги:\n",
    "− 𝑤 = [1, 0];\n",
    "− 𝑏 = 1.\n",
    "\n",
    "Реализуйте классы нейронных сетей с использованием других функций \n",
    "активации.\n",
    "\n",
    "<img src=\"zadanie.jpg\">\n"
   ]
  },
  {
   "cell_type": "code",
   "execution_count": 18,
   "id": "97a3eae2",
   "metadata": {
    "pycharm": {
     "name": "#%%\n"
    }
   },
   "outputs": [
    {
     "name": "stdout",
     "output_type": "stream",
     "text": [
      "Первая нейросеть\n",
      "Sigmoid:  0.8067238139969796\n",
      "Tanh:  0.903798759264991\n",
      "ReLU:  4.5\n",
      "\n",
      "Вторая нейросеть\n",
      "Sigmoid:  (0.8757270529783324, 0.8671195555587996)\n",
      "Tanh:  (0.9636765235959711, 0.961369383860628)\n",
      "ReLU:  (4, 5)\n"
     ]
    }
   ],
   "source": [
    "import numpy as np\n",
    "\n",
    "\n",
    "def Sigmoid(x):\n",
    "    return 1 / (1 + np.exp(-x))\n",
    "\n",
    "\n",
    "def tanh(x):\n",
    "    return np.tanh(x)\n",
    "\n",
    "\n",
    "def ReLU(x):\n",
    "    return max(0, x)\n",
    "\n",
    "\n",
    "class Neuron:\n",
    "    def __init__(self, w, b):\n",
    "        self.w = w\n",
    "        self.b = b\n",
    "\n",
    "    def ffSigmoid(self, inputs):\n",
    "        total = np.dot(self.w, inputs) + self.b\n",
    "        return sigmoid(total)\n",
    "\n",
    "    def ffTanh(self, inputs):\n",
    "        total = np.dot(self.w, inputs) + self.b\n",
    "        return tanh(total)\n",
    "\n",
    "    def ffReLU(self, inputs):\n",
    "        total = np.dot(self.w, inputs) + self.b\n",
    "        return ReLU(total)\n",
    "\n",
    "\n",
    "class NeuralNetwork1:\n",
    "    def __init__(self):\n",
    "        w = np.array([0.5, 0.5, 0.5])\n",
    "        b = 0\n",
    "        self.h1 = Neuron(w, b)\n",
    "        self.h2 = Neuron(w, b)\n",
    "        self.h3 = Neuron(w, b)\n",
    "        self.o1 = Neuron(w, b)\n",
    "\n",
    "    def feedforwardSigmoid(self, x):\n",
    "        out1 = self.h1.ffSigmoid(x)\n",
    "        out2 = self.h2.ffSigmoid(x)\n",
    "        out3 = self.h3.ffSigmoid(x)\n",
    "        outf = self.o1.ffSigmoid(np.array([out1, out2, out3]))\n",
    "        return outf\n",
    "\n",
    "    def feedforwardTanh(self, x):\n",
    "        out1 = self.h1.ffTanh(x)\n",
    "        out2 = self.h2.ffTanh(x)\n",
    "        out3 = self.h3.ffTanh(x)\n",
    "        outf = self.o1.ffTanh(np.array([out1, out2, out3]))\n",
    "        return outf\n",
    "\n",
    "    def feedforwardReLU(self, x):\n",
    "        out1 = self.h1.ffReLU(x)\n",
    "        out2 = self.h2.ffReLU(x)\n",
    "        out3 = self.h3.ffReLU(x)\n",
    "        outf = self.o1.ffReLU(np.array([out1, out2, out3]))\n",
    "        return outf\n",
    "\n",
    "\n",
    "class NeuralNetwork2:\n",
    "    def __init__(self):\n",
    "        w = np.array([1, 0])\n",
    "        b = 1\n",
    "        self.h1 = Neuron(w, b)\n",
    "        self.h2 = Neuron(w, b)\n",
    "        self.o1 = Neuron(w, b)\n",
    "        self.o2 = Neuron(w, b)\n",
    "\n",
    "    def feedforwardSigmoid(self, x):\n",
    "        out1 = self.h1.ffSigmoid(x)\n",
    "        out2 = self.h2.ffSigmoid(x)\n",
    "        out1 = self.o1.ffSigmoid(np.array([out1, out2]))\n",
    "        out2 = self.o2.ffSigmoid(np.array([out1, out2]))\n",
    "        return out1, out2\n",
    "\n",
    "    def feedforwardTanh(self, x):\n",
    "        out1 = self.h1.ffTanh(x)\n",
    "        out2 = self.h2.ffTanh(x)\n",
    "        out1 = self.o1.ffTanh(np.array([out1, out2]))\n",
    "        out2 = self.o2.ffTanh(np.array([out1, out2]))\n",
    "        return out1, out2\n",
    "\n",
    "    def feedforwardReLU(self, x):\n",
    "        out1 = self.h1.ffReLU(x)\n",
    "        out2 = self.h2.ffReLU(x)\n",
    "        out1 = self.o1.ffReLU(np.array([out1, out2]))\n",
    "        out2 = self.o2.ffReLU(np.array([out1, out2]))\n",
    "        return out1, out2\n",
    "\n",
    "\n",
    "network1 = NeuralNetwork1()\n",
    "x1 = np.array([1, 2, 3])\n",
    "print('Первая нейросеть')\n",
    "print('Sigmoid: ', network1.feedforwardSigmoid(x1))\n",
    "print('Tanh: ', network1.feedforwardTanh(x1))\n",
    "print('ReLU: ', network1.feedforwardReLU(x1))\n",
    "print()\n",
    "network2 = NeuralNetwork2()\n",
    "x2 = np.array([2, 3])\n",
    "print('Вторая нейросеть')\n",
    "print('Sigmoid: ', network2.feedforwardSigmoid(x2))\n",
    "print('Tanh: ', network2.feedforwardTanh(x2))\n",
    "print('ReLU: ', network2.feedforwardReLU(x2))"
   ]
  },
  {
   "cell_type": "markdown",
   "id": "ea47c2b0",
   "metadata": {
    "pycharm": {
     "name": "#%% md\n"
    }
   },
   "source": [
    "# 1.2. Введение в нейронные сети с помощью Scikit-Learn в Python"
   ]
  },
  {
   "cell_type": "markdown",
   "id": "1f6504d2",
   "metadata": {
    "pycharm": {
     "name": "#%% md\n"
    }
   },
   "source": [
    "Теперь мы знаем, что такое нейронные сети и какие шаги необходимо \n",
    "выполнить, чтобы построить простую нейронную сеть с плотными связями. В этом разделе мы попытаемся построить простую нейронную сеть, которая предсказывает класс, к которому принадлежит данное растение ириса. Мы будем использовать библиотеку Python Scikit-Learn для создания нашей нейронной сети.\n",
    "Sklearn предоставляет 2 оценщика для задач классификации и \n",
    "регрессии соответственно:\n",
    "\n",
    "− MLPClassifier;\n",
    "\n",
    "− MLPRegressor \n",
    "\n",
    "Начнем с импорта необходимых библиотек."
   ]
  },
  {
   "cell_type": "code",
   "execution_count": 22,
   "id": "d1210346",
   "metadata": {
    "pycharm": {
     "name": "#%%\n"
    }
   },
   "outputs": [],
   "source": [
    "#Загрузка библиотек \n",
    "import numpy as np\n",
    "import pandas as pd\n",
    "import matplotlib.pyplot as plt\n",
    "\n",
    "import sklearn"
   ]
  },
  {
   "cell_type": "markdown",
   "id": "7978b65f",
   "metadata": {
    "pycharm": {
     "name": "#%% md\n"
    }
   },
   "source": [
    "# MLPClassifier"
   ]
  },
  {
   "cell_type": "markdown",
   "id": "76eea4e6",
   "metadata": {
    "pycharm": {
     "name": "#%% md\n"
    }
   },
   "source": [
    "Загрузка данных\n",
    "Мы будем загружать два набора данных.\n",
    "Набор данных цифр: мы будем использовать набор данных цифр, \n",
    "который имеет изображения размером 8x8 для цифр 0-9. Ниже мы будем \n",
    "использовать цифровые данные для задач классификации.\n",
    "Набор данных о жилье в Бостоне: мы будем использовать набор \n",
    "данных о жилье в Бостоне, который содержит информацию о различных \n",
    "свойствах дома, таких как среднее количество комнат, уровень преступности \n",
    "на душу населения в городе и т. д. Мы будем использовать его для задач \n",
    "регрессии.\n",
    "Sklearn предоставляет оба этих набора данных. Мы можем загрузить \n",
    "их, вызвав методы load_digits() и load_boston()."
   ]
  },
  {
   "cell_type": "code",
   "execution_count": 26,
   "id": "e5ec1539",
   "metadata": {
    "pycharm": {
     "name": "#%%\n"
    }
   },
   "outputs": [
    {
     "name": "stdout",
     "output_type": "stream",
     "text": [
      "Dataset Sizes: (1797, 64) (1797,)\n"
     ]
    }
   ],
   "source": [
    "from sklearn.datasets import load_digits, load_boston\n",
    "\n",
    "digits = load_digits()\n",
    "X_digits, Y_digits = digits.data, digits.target\n",
    "print('Dataset Sizes:', X_digits.shape, Y_digits.shape)"
   ]
  },
  {
   "cell_type": "code",
   "execution_count": 27,
   "id": "e7dac114",
   "metadata": {
    "pycharm": {
     "name": "#%%\n"
    }
   },
   "outputs": [
    {
     "name": "stdout",
     "output_type": "stream",
     "text": [
      "Dataset Sizes: (506, 13) (506,)\n"
     ]
    }
   ],
   "source": [
    "boston = load_boston()\n",
    "X_boston, Y_boston = boston.data, boston.target\n",
    "print('Dataset Sizes:', X_boston.shape, Y_boston.shape)"
   ]
  },
  {
   "cell_type": "markdown",
   "id": "16e6363d",
   "metadata": {
    "pycharm": {
     "name": "#%% md\n"
    }
   },
   "source": [
    "Классификация\n",
    "\n",
    "MLPClassifier — это клвсс, доступный как часть модуля neuro_network \n",
    "sklearn для выполнения задач классификации с использованием \n",
    "многослойного персептрона.\n",
    "Как обычно разделим набор данных на две части:\n",
    "− данные обучения, которые будут использоваться для модели \n",
    "обучения;\n",
    "− тестовые данные, по которым будет проверяться точность \n",
    "обученной модели.\n",
    "Функция train_test_split модуля model_selection sklearn поможет нам \n",
    "разделить данные на два набора: 80% для обучения и 20% для тестирования. \n",
    "Мы также используем seed(random_state=123) с train_test_split, чтобы мы \n",
    "всегда получали одно и то же разделение и могли сравнивать и \n",
    "воспроизволить результаты в будущем."
   ]
  },
  {
   "cell_type": "code",
   "execution_count": 28,
   "id": "fd0a41b2",
   "metadata": {
    "pycharm": {
     "name": "#%%\n"
    }
   },
   "outputs": [
    {
     "name": "stdout",
     "output_type": "stream",
     "text": [
      "Train/Test Sizes: (1437, 64) (360, 64) (1437,) (360,)\n"
     ]
    }
   ],
   "source": [
    "from sklearn.model_selection import train_test_split\n",
    "\n",
    "X_train, X_test, Y_train, Y_test = train_test_split(X_digits, Y_digits, train_size=0.80, test_size=0.20,\n",
    "                                                    stratify=Y_digits, random_state=123)\n",
    "print('Train/Test Sizes:', X_train.shape, X_test.shape, Y_train.shape, Y_test.shape)"
   ]
  },
  {
   "cell_type": "markdown",
   "id": "a273cb01",
   "metadata": {
    "pycharm": {
     "name": "#%% md\n"
    }
   },
   "source": [
    "Для начала натренируем модель MLPClassifier с параметрами по умолчанию \n",
    "для тренировочных данных."
   ]
  },
  {
   "cell_type": "code",
   "execution_count": 29,
   "id": "f821c129",
   "metadata": {
    "pycharm": {
     "name": "#%%\n"
    }
   },
   "outputs": [
    {
     "name": "stdout",
     "output_type": "stream",
     "text": [
      "[5 9 9 6 1 6 6 9 8 7 4 2 1 4 3]\n",
      "[5 9 9 6 1 6 6 9 8 7 4 2 1 4 3]\n",
      "Test Accuracy : 0.983\n",
      "Training Accuracy : 1.000\n"
     ]
    }
   ],
   "source": [
    "from sklearn.neural_network import MLPClassifier\n",
    "\n",
    "mlp_classifier = MLPClassifier(random_state=123)\n",
    "mlp_classifier.fit(X_train, Y_train)\n",
    "Y_preds = mlp_classifier.predict(X_test)\n",
    "\n",
    "print(Y_preds[:15])\n",
    "print(Y_test[:15])\n",
    "## Метод Score для оценки точности моделей классификации. \n",
    "print('Test Accuracy : %.3f' % mlp_classifier.score(X_test, Y_test))\n",
    "print('Training Accuracy : %.3f' % mlp_classifier.score(X_train, Y_train))"
   ]
  },
  {
   "cell_type": "markdown",
   "id": "6a06da2e",
   "metadata": {
    "pycharm": {
     "name": "#%% md\n"
    }
   },
   "source": [
    "Cоздадим метод plot_confusion_matrix(), который принимает исходные и \n",
    "предсказанные метки данных по модели. Затем он строит матрицу путаницы, используя matplotlib."
   ]
  },
  {
   "cell_type": "code",
   "execution_count": 30,
   "id": "b9a27ca5",
   "metadata": {
    "pycharm": {
     "name": "#%%\n"
    }
   },
   "outputs": [
    {
     "name": "stdout",
     "output_type": "stream",
     "text": [
      "[[36  0  0  0  0  0  0  0  0  0]\n",
      " [ 0 36  0  0  0  0  0  0  0  0]\n",
      " [ 0  1 33  0  0  0  0  1  0  0]\n",
      " [ 0  0  0 37  0  0  0  0  0  0]\n",
      " [ 0  0  0  0 36  0  0  0  0  0]\n",
      " [ 0  0  0  0  1 36  0  0  0  0]\n",
      " [ 0  0  0  0  0  0 36  0  0  0]\n",
      " [ 0  0  0  0  0  0  0 35  0  1]\n",
      " [ 0  2  0  0  0  0  0  0 33  0]\n",
      " [ 0  0  0  0  0  0  0  0  0 36]]\n"
     ]
    },
    {
     "data": {
      "image/png": "[encoded data removed]",
      "text/plain": [
       "<Figure size 600x600 with 2 Axes>"
      ]
     },
     "metadata": {},
     "output_type": "display_data"
    }
   ],
   "source": [
    "from sklearn.metrics import confusion_matrix\n",
    "\n",
    "\n",
    "def plot_confusion_matrix(Y_test, Y_preds):\n",
    "    conf_mat = confusion_matrix(Y_test, Y_preds)\n",
    "    print(conf_mat)\n",
    "    fig = plt.figure(figsize=(6, 6))\n",
    "    plt.matshow(conf_mat, cmap=plt.cm.Blues, fignum=1)\n",
    "    plt.yticks(range(10), range(10))\n",
    "    plt.xticks(range(10), range(10))\n",
    "    plt.colorbar();\n",
    "    for i in range(10):\n",
    "        for j in range(10):\n",
    "            plt.text(i - 0.2, j + 0.1, str(conf_mat[j, i]), color='tab:red')\n",
    "\n",
    "\n",
    "plot_confusion_matrix(Y_test, mlp_classifier.predict(X_test))"
   ]
  },
  {
   "cell_type": "markdown",
   "id": "8a5d6403",
   "metadata": {
    "pycharm": {
     "name": "#%% md\n"
    }
   },
   "source": [
    "Ниже приведен список важных атрибутов, доступных с MLPClassifier, \n",
    "которые могут предоставить значимую информацию после обучения \n",
    "модели.\n",
    "− loss_ — возвращает убыток после завершения процесса обучения.\n",
    "− coefs_ — возвращает массив длины n_layers-1, где каждый элемент \n",
    "представляет веса, связанные с уровнем i.\n",
    "− intercepts_ — возвращает массив длины n_layers-1, где каждый \n",
    "элемент представляет собой перехват, связанный с персептронами \n",
    "слоя i.\n",
    "− n_iter_ — количество итераций, для которых выполнялась оценка.\n",
    "− out_activation_ — возвращает имя функции активации выходного \n",
    "слоя."
   ]
  },
  {
   "cell_type": "code",
   "execution_count": 31,
   "id": "06c89b3d",
   "metadata": {
    "pycharm": {
     "name": "#%%\n"
    }
   },
   "outputs": [
    {
     "name": "stdout",
     "output_type": "stream",
     "text": [
      "Loss :  0.003472868499418062\n",
      "Number of Coefs :  2\n",
      "Number of Intercepts :  2\n",
      "Number of Iterations for Which Estimator Ran :  125\n",
      "Name of Output Layer Activation Function :  softmax\n"
     ]
    }
   ],
   "source": [
    "print(\"Loss : \", mlp_classifier.loss_)\n",
    "print(\"Number of Coefs : \", len(mlp_classifier.coefs_))\n",
    "print(\"Number of Intercepts : \", len(mlp_classifier.intercepts_))\n",
    "print(\"Number of Iterations for Which Estimator Ran : \", mlp_classifier.n_iter_)\n",
    "print(\"Name of Output Layer Activation Function : \", mlp_classifier.out_activation_)"
   ]
  },
  {
   "cell_type": "markdown",
   "id": "94a4fe17",
   "metadata": {
    "pycharm": {
     "name": "#%% md\n"
    }
   },
   "source": [
    "# MLPRegressor"
   ]
  },
  {
   "cell_type": "markdown",
   "id": "a88328bf",
   "metadata": {
    "pycharm": {
     "name": "#%% md\n"
    }
   },
   "source": [
    "**MLPRegressor** — это класс, доступный как часть библиотеки \n",
    "neuro_network sklearn для выполнения задач регрессии с использованием многослойного персептрона. Также разделим набор данных на две части:\n",
    "− данные обучения (80%), которые будут использоваться для \n",
    "модели обучения;\n",
    "− тестовые данные (20%), по которым будет проверяться точность \n",
    "обученной модели."
   ]
  },
  {
   "cell_type": "code",
   "execution_count": 34,
   "id": "7135c15e",
   "metadata": {
    "pycharm": {
     "name": "#%%\n"
    },
    "scrolled": true
   },
   "outputs": [
    {
     "name": "stdout",
     "output_type": "stream",
     "text": [
      "Train/Test Sizes :  (404, 13) (102, 13) (404,) (102,)\n"
     ]
    }
   ],
   "source": [
    "X_train, X_test, Y_train, Y_test = train_test_split(X_boston, Y_boston, train_size=0.80, test_size=0.20,\n",
    "                                                    random_state=123)\n",
    "print('Train/Test Sizes : ', X_train.shape, X_test.shape, Y_train.shape, Y_test.shape)"
   ]
  },
  {
   "cell_type": "code",
   "execution_count": 35,
   "id": "5d883fac",
   "metadata": {
    "pycharm": {
     "name": "#%%\n"
    }
   },
   "outputs": [
    {
     "name": "stdout",
     "output_type": "stream",
     "text": [
      "[ 7.32543601 24.33417853 32.46700507 15.19086054 25.6749167  25.07797685\n",
      " 27.20985668  2.62269853 15.25691994 28.02637784]\n",
      "[15.  26.6 45.4 20.8 34.9 21.9 28.7  7.2 20.  32.2]\n",
      "Test R*2 Score : 0.462\n",
      "Training R*2 Score : 0.510\n"
     ]
    }
   ],
   "source": [
    "from sklearn.neural_network import MLPRegressor\n",
    "\n",
    "mlp_regressor = MLPRegressor(random_state=123)\n",
    "mlp_regressor.fit(X_train, Y_train)\n",
    "Y_preds = mlp_regressor.predict(X_test)\n",
    "\n",
    "print(Y_preds[:10])\n",
    "print(Y_test[:10])  ## Метод Score оценивает точность моделей классификации.\n",
    "print('Test R*2 Score : %.3f' % mlp_regressor.score(X_test, Y_test))\n",
    "print('Training R*2 Score : %.3f' % mlp_regressor.score(X_train, Y_train))"
   ]
  },
  {
   "cell_type": "markdown",
   "id": "9fbf3400",
   "metadata": {
    "pycharm": {
     "name": "#%% md\n"
    }
   },
   "source": [
    "MLPRegressor имеет все атрибуты такие же, как и у MLPClassifier:"
   ]
  },
  {
   "cell_type": "code",
   "execution_count": 36,
   "id": "48796681",
   "metadata": {
    "pycharm": {
     "name": "#%%\n"
    }
   },
   "outputs": [
    {
     "name": "stdout",
     "output_type": "stream",
     "text": [
      "Loss : 28.538174061119605\n"
     ]
    }
   ],
   "source": [
    "print(\"Loss :\", mlp_regressor.loss_)"
   ]
  },
  {
   "cell_type": "code",
   "execution_count": 37,
   "id": "58bc73de",
   "metadata": {
    "pycharm": {
     "name": "#%%\n"
    }
   },
   "outputs": [
    {
     "name": "stdout",
     "output_type": "stream",
     "text": [
      "Number of Coefs :  2\n"
     ]
    },
    {
     "data": {
      "text/plain": [
       "[(13, 100), (100, 1)]"
      ]
     },
     "execution_count": 37,
     "metadata": {},
     "output_type": "execute_result"
    }
   ],
   "source": [
    "print(\"Number of Coefs : \", len(mlp_regressor.coefs_))\n",
    "[weights.shape for weights in mlp_regressor.coefs_]"
   ]
  },
  {
   "cell_type": "code",
   "execution_count": 38,
   "id": "e9a0f396",
   "metadata": {
    "pycharm": {
     "name": "#%%\n"
    }
   },
   "outputs": [
    {
     "name": "stdout",
     "output_type": "stream",
     "text": [
      "Number of Iterations for Which Estimator Ran : 130\n"
     ]
    }
   ],
   "source": [
    "print(\"Number of Iterations for Which Estimator Ran :\", mlp_regressor.n_iter_)"
   ]
  },
  {
   "cell_type": "code",
   "execution_count": 39,
   "id": "54e0972a",
   "metadata": {
    "pycharm": {
     "name": "#%%\n"
    }
   },
   "outputs": [
    {
     "name": "stdout",
     "output_type": "stream",
     "text": [
      "Name of Output Layer Activation Function : identity\n"
     ]
    }
   ],
   "source": [
    "print(\"Name of Output Layer Activation Function :\", mlp_regressor.out_activation_)"
   ]
  },
  {
   "cell_type": "markdown",
   "id": "9c6796cc",
   "metadata": {
    "pycharm": {
     "name": "#%% md\n"
    }
   },
   "source": [
    "# Задание"
   ]
  },
  {
   "cell_type": "markdown",
   "id": "7e21b81b",
   "metadata": {
    "pycharm": {
     "name": "#%% md\n"
    }
   },
   "source": [
    "Используйте классы MLPClassified и MLPRegressor для классификации и \n",
    "регрессии произвольных данных из интернета. Проведите анализ \n",
    "атрибуты, полученных моделей.\n",
    "\n",
    "Для классификации можете взять набор данных Ирисов:\n",
    "https://gist.githubusercontent.com/netj/8836201/raw/6f9306ad21398ea43cba4f7d537619d0e07d5ae3/iris.csv\n",
    "а для регрессии датасет зависимости заработной платы от опыта работы:\n",
    "https://raw.githubusercontent.com/AnnaShestova/salary-years-simple-linear-regression/master/Salary_Data.csv"
   ]
  },
  {
   "cell_type": "code",
   "execution_count": 40,
   "id": "dcd487f4",
   "metadata": {
    "pycharm": {
     "name": "#%%\n"
    }
   },
   "outputs": [
    {
     "name": "stdout",
     "output_type": "stream",
     "text": [
      "----------MLPClassifier----------\n",
      "\n",
      "[5 9 9 6 1 6 6 9 8 7 4 2 1 4 3 1 4 7 0 1]\n",
      "[5 9 9 6 1 6 6 9 8 7 4 2 1 4 3 1 4 7 0 1]\n",
      "Dataset Sizes: (150,) (150,)\n",
      "Train/Test Sizes: (1437, 64) (360, 64) (1437,) (360,)\n",
      "Test Accuracy: 0.983\n",
      "Training Accuracy: 1.000\n",
      "Loss: 0.003472868499418062\n",
      "Number of Coefs: 2\n",
      "Number of Intercepts: 2\n",
      "Number of Iterations for Which Estimator Ran: 125\n",
      "Name of Output Layer Activation Function: softmax\n",
      "\n",
      "----------MLPRegressor----------\n",
      "\n",
      "[ 7.32543601 24.33417853 32.46700507 15.19086054 25.6749167  25.07797685\n",
      " 27.20985668  2.62269853 15.25691994 28.02637784 24.87512289 22.93142898\n",
      "  3.4535659  22.39981026 14.81669298 21.43165423 17.9278645  29.7301519\n",
      " 17.92969623 16.22029898]\n",
      "[15.  26.6 45.4 20.8 34.9 21.9 28.7  7.2 20.  32.2 24.1 18.5 13.5 27.\n",
      " 23.1 18.9 24.5 43.1 19.8 13.8]\n",
      "Dataset Sizes: (30,) (30,)\n",
      "Train/Test Sizes: (404, 13) (102, 13) (404,) (102,)\n",
      "Test R^2 Score: 0.462\n",
      "Training R^2 Score: 0.510\n",
      "Loss: 28.538174061119605\n",
      "Number of Coefs: 2\n",
      "Number of Iterations for Which Estimator Ran: 130\n",
      "Name of Output Layer Activation Function: identity\n"
     ]
    }
   ],
   "source": [
    "from sklearn.neural_network import MLPClassifier\n",
    "from sklearn.neural_network import MLPRegressor\n",
    "\n",
    "print('----------MLPClassifier----------\\n')\n",
    "\n",
    "data = pd.read_csv(\n",
    "    'https://gist.githubusercontent.com/netj/8836201/raw/6f9306ad21398ea43cba4f7d537619d0e07d5ae3/iris.csv')\n",
    "X_data, Y_data = data['sepal.length'], data['sepal.width']\n",
    "X_train, X_test, Y_train, Y_test = train_test_split(X_digits, Y_digits, train_size=.80, test_size=.20,\n",
    "                                                    stratify=Y_digits, random_state=123)\n",
    "mlp_classifier = MLPClassifier(random_state=123)\n",
    "mlp_classifier.fit(X_train, Y_train)\n",
    "Y_preds = mlp_classifier.predict(X_test)\n",
    "\n",
    "print(Y_preds[:20])\n",
    "print(Y_test[:20])\n",
    "print('Dataset Sizes:', X_data.shape, Y_data.shape)\n",
    "print('Train/Test Sizes:', X_train.shape, X_test.shape, Y_train.shape, Y_test.shape)\n",
    "print('Test Accuracy: %.3f' % mlp_classifier.score(X_test, Y_test))\n",
    "print('Training Accuracy: %.3f' % mlp_classifier.score(X_train, Y_train))\n",
    "print('Loss:', mlp_classifier.loss_)\n",
    "print('Number of Coefs:', len(mlp_classifier.coefs_))\n",
    "print('Number of Intercepts:', len(mlp_classifier.intercepts_))\n",
    "print('Number of Iterations for Which Estimator Ran:', mlp_classifier.n_iter_)\n",
    "print('Name of Output Layer Activation Function:', mlp_classifier.out_activation_)\n",
    "print('\\n----------MLPRegressor----------\\n')\n",
    "\n",
    "data = pd.read_csv(\n",
    "    'https://raw.githubusercontent.com/AnnaShestova/salary-years-simple-linear-regression/master/Salary_Data.csv')\n",
    "X_data, Y_data = data['YearsExperience'], data['Salary']\n",
    "X_train, X_test, Y_train, Y_test = train_test_split(X_boston, Y_boston, train_size=.80, test_size=.20, random_state=123)\n",
    "mlp_regressor = MLPRegressor(random_state=123)\n",
    "mlp_regressor.fit(X_train, Y_train)\n",
    "Y_preds = mlp_regressor.predict(X_test)\n",
    "\n",
    "print(Y_preds[:20])\n",
    "print(Y_test[:20])\n",
    "print('Dataset Sizes:', X_data.shape, Y_data.shape)\n",
    "print('Train/Test Sizes:', X_train.shape, X_test.shape, Y_train.shape, Y_test.shape)\n",
    "print('Test R^2 Score: %.3f' % mlp_regressor.score(X_test, Y_test))\n",
    "print('Training R^2 Score: %.3f' % mlp_regressor.score(X_train, Y_train))\n",
    "print('Loss:', mlp_regressor.loss_)\n",
    "print('Number of Coefs:', len(mlp_regressor.coefs_))\n",
    "print('Number of Iterations for Which Estimator Ran:', mlp_regressor.n_iter_)\n",
    "print('Name of Output Layer Activation Function:', mlp_regressor.out_activation_)"
   ]
  },
  {
   "cell_type": "code",
   "execution_count": null,
   "id": "c457ebea",
   "metadata": {
    "pycharm": {
     "name": "#%%\n"
    }
   },
   "outputs": [],
   "source": []
  }
 ],
 "metadata": {
  "kernelspec": {
   "display_name": "Python 3 (ipykernel)",
   "language": "python",
   "name": "python3"
  },
  "language_info": {
   "codemirror_mode": {
    "name": "ipython",
    "version": 3
   },
   "file_extension": ".py",
   "mimetype": "text/x-python",
   "name": "python",
   "nbconvert_exporter": "python",
   "pygments_lexer": "ipython3",
   "version": "3.11.1"
  }
 },
 "nbformat": 4,
 "nbformat_minor": 5
}
