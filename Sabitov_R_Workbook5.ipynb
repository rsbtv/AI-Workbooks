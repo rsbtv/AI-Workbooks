{
 "cells": [
  {
   "cell_type": "markdown",
   "metadata": {
    "pycharm": {
     "name": "#%% md\n"
    }
   },
   "source": [
    "# Рабочая тетрадь №5\n",
    "#### Теоретический материал - Деревья принятия решений\n",
    "Деревья решений являются одним из наиболее эффективных\n",
    "инструментов интеллектуального анализа данных и предсказательной\n",
    "аналитики, которые позволяют решать задачи классификации и регрессии.\n",
    "Перед тем как непосредственно перейти к решению задач с\n",
    "использование данного инструмента рассмотрим общее понятие \"дерево\" в\n",
    "информатике и способы задания деревьев в языке Python.\n",
    "Деревья принадлежат к числу основных структур данных,\n",
    "используемых в программировании. Древовидная структура является\n",
    "одним из способов представления иерархической структуры в графическом\n",
    "виде. Такое название она получила потому, что граф выглядит как\n",
    "перевернутое дерево. Корень дерева (корневой узел) находится на самом\n",
    "верху, а листья (потомки) — внизу.\n",
    "Деревья широко применяются в компьютерных технологиях.\n",
    "Примером является файловая система, представляющая собой\n",
    "иерархическую структуру из файлов и каталогов.\n",
    "Деревья решений являются одним из наиболее эффективных\n",
    "инструментов интеллектуального анализа данных и предсказательной\n",
    "аналитики, которые позволяют решать задачи классификации и регрессии.\n",
    "Перед тем как непосредственно перейти к решению задач с\n",
    "использование данного инструмента рассмотрим общее понятие \"дерево\" в\n",
    "информатике и способы задания деревьев в языке Python.\n",
    "Деревья принадлежат к числу основных структур данных,\n",
    "используемых в программировании. Древовидная структура является\n",
    "одним из способов представления иерархической структуры в графическом\n",
    "виде. Такое название она получила потому, что граф выглядит как\n",
    "перевернутое дерево. Корень дерева (корневой узел) находится на самом\n",
    "верху, а листья (потомки) — внизу.\n",
    "Деревья широко применяются в компьютерных технологиях.\n",
    "Примером является файловая система, представляющая собой\n",
    "иерархическую структуру из файлов и каталогов."
   ]
  },
  {
   "cell_type": "markdown",
   "source": [
    "#### 1.1 Теоретический материал - Основы объектно-ориернтированного программирования в Python\n",
    "В предыдущих разделах мы рассматривали в основном традиционное\n",
    "программирование на Python, когда вся программа разбивается (или не\n",
    "разбивается) на отдельные модули, содержащие функции. Такое\n",
    "программирование соответствует парадигме структурного\n",
    "программирования. Само структурное программирование оказалось\n",
    "колоссальным шагом в построении программ. Однако еще большим шагом\n",
    "является парадигма объектно-ориентированного программирования. В этом\n",
    "подходе программа состоит из отдельных классов, которые объединяют в\n",
    "себе как переменные, называемые полями класса, так и функции,\n",
    "называемые методами класса.\n",
    "На самом деле мы уже сталкивались с классами, когда создавали\n",
    "объекты для решения задач классификации и регрессии в Scikit-learn. В\n",
    "данном разделе подробнее познакомимся с основами объектно-\n",
    "ориентированного программирования (ООП).\n",
    "Объектно-ориентированное программирование состоит из трех китов:\n",
    "− инкапсуляция;\n",
    "− наследование;\n",
    "− полиморфизм.\n",
    "Рассмотрим на примерах эти понятия. Первое - инкапсуляция - это\n",
    "объединение в одном объекте данных и программного кода таким образом,\n",
    "что для внешней работы внутренняя часть объекта может быть скрыта от\n",
    "пользователя. Инкапсуляция может быть реализована не только с помощью\n",
    "классов, но и с помощью модулей, но классы позволяют сделать\n",
    "инкапсуляцию естественным путем. Создадим класс в Python. Для этого\n",
    "необходимо определить класс (новый тип данных) и создать объект,\n",
    "называемый экземпляром класса. Мы рекомендуем имена классов начинать\n",
    "с заглавной буквы \"T\", подчеркивая тем самым, что речь идет о типе данных.\n",
    "Делается это так:\n",
    "    \n",
    "    class TAnimal:\n",
    "        name = \"\"\n",
    "        def __init__(self, name):\n",
    "            self.name = name\n",
    "        def say(self):\n",
    "            print(self.name)\n",
    "            \n",
    "Теперь создадим экземпляр этого класса. Экземпляр класса\n",
    "представляет собой переменную, с которой можно работать обычным\n",
    "образом.\n",
    "\n",
    "    Animal = TAnimal(\"Обезьяна\")\n",
    "    Animal.say()\n",
    "    \n",
    "Рассмотрим синтаксис Python при создании классов. Все начинается с\n",
    "ключевого слова class. Далее в блоке из отступов мы определяем\n",
    "переменные, которые будем называть полями и функции, которые\n",
    "называются методами. Методы определяются, как обычные функции и\n",
    "могут возвращать значения. Единственное отличие состоит в том, что у всех\n",
    "методов есть обязательный первый параметр, который по традиции всегда\n",
    "называем self в котором передается ссылка на экземпляр класса. Поэтому\n",
    "когда внутри класса метод хочет обратиться к своему полю, то необходимо\n",
    "использовать конструкцию self.name. Заметим, что при вызове методов мы\n",
    "первый параметр не задаем.\n",
    "Далее, у каждого класса есть метод, с именем __init__, который\n",
    "называется конструктором класса. Этот метод вызывается в момент\n",
    "создания экземпляра Animal = TAnimal(\"Обезьяна\"). Конструктор может\n",
    "иметь любое количество параметров. Предположим, что теперь нам нужно\n",
    "сделать класс для описания конкретного животного - кошки. Для это мы\n",
    "используем наследование классов, когда можно определять новые классы,\n",
    "как наследники существующих. При этом новый класс будет иметь все поля\n",
    "и методы наследуемого класса. Вот как это делается:\n",
    "\n",
    "    class TAnimal:\n",
    "        name = \"\"\n",
    "        def __init__(self, name):\n",
    "            self.name = name\n",
    "        def say(self):\n",
    "            print(self.name)\n",
    "        class TCat(TAnimal):\n",
    "            def may(self):\n",
    "                print(\"Мяу!\")\n",
    "        Cat = TCat(\"Кошка\")\n",
    "        Cat.say()\n",
    "        Cat.may()\n",
    "        \n",
    "Мы видим, что у наследованного класса сохранился конструктор и\n",
    "метод say. В последнем примере мы выдели, что наследный класс, также как\n",
    "и исходный имеет конструктор, который принимает в качестве параметра -\n",
    "название животного тогда, что в данном случае излишне. Для решения этой\n",
    "проблемы мы воспользуемся объектно-ориентированным механизмом -\n",
    "полиморфизмом. Полиморфизм - это возможность замены методов при\n",
    "наследовании. Сделаем так, чтобы не нужно было передавать в конструкторе\n",
    "название \"Кошка\".\n",
    "\n",
    "    class TCat(TAnimal):\n",
    "        def __init__(self):\n",
    "            super().__init__(\"Кошка\")\n",
    "        def may(self):\n",
    "            print(\"Мяу!\")\n",
    "        Cat = TCat()\n",
    "        Cat.say()\n",
    "        Cat.may()\n",
    "        \n",
    "Результат выполнения этой программы будет аналогичный, но теперь\n",
    "при использовании этого класса нам не нужно передавать в конструкторе\n",
    "никаких параметров. Полиморфное перекрытие методов делается простым\n",
    "объявлением метода (в данном случае конструктора). При этом нельзя\n",
    "можно менять входные параметры. Если в результате написания кода метода\n",
    "возникает необходимость вызвать перекрытый метод, то для этого\n",
    "необходимо использовать функцию super(), которая по сути просто\n",
    "возвращает ссылку на родительский класс. Самое удивительное в\n",
    "полиморфизме, что изменяя метод, он меняется даже когда на него есть\n",
    "ссылки родительского класса. Рассмотрим еще один пример. Пусть у нас\n",
    "есть класс:\n",
    "\n",
    "    class TDo:\n",
    "        def Operation(self, x, y):\n",
    "            return x + y\n",
    "        def Run(self):\n",
    "            x = int(input(\"Enter x > \"))\n",
    "            y = int(input(\"Enter y > \"))\n",
    "            z = self.Operation(x, y)\n",
    "            print(\"Result = \" + z.__str__())\n",
    "        Do = TDo()\n",
    "        Do.Run()\n",
    "        \n",
    "С помощью полиморфизма заменим функцию Operation на другую в\n",
    "наследном классе:\n",
    "\n",
    "    class TDo2(TDo):\n",
    "        def Operation(self, x, y):\n",
    "            return x * y"
   ],
   "metadata": {
    "collapsed": false,
    "pycharm": {
     "name": "#%% md\n"
    }
   }
  },
  {
   "cell_type": "markdown",
   "source": [
    "#### 1.2.1 Пример\n",
    "Необходимо разработать виртуальную модель процесса обучения. В\n",
    "программе должны быть объекты-ученики, учитель, кладезь знаний.\n",
    "Потребуется три класса – \"учитель\", \"ученик\", \"данные\". Учитель и\n",
    "ученик во многом похожи, оба – люди. Значит, их классы могут\n",
    "принадлежать одному надклассу \"человек\". Однако в контексте данной\n",
    "задачи у учителя и ученика вряд ли найдутся общие атрибуты. Определим,\n",
    "что должны уметь объекты для решения задачи \"увеличить знания\":\n",
    "• Ученик должен уметь брать информацию и превращать ее в свои\n",
    "знания.\n",
    "• Учитель должен уметь учить группу учеников.\n",
    "• Данные могут представлять собой список знаний. Элементы будут\n",
    "извлекаться по индексу."
   ],
   "metadata": {
    "collapsed": false,
    "pycharm": {
     "name": "#%% md\n"
    }
   }
  },
  {
   "cell_type": "code",
   "execution_count": null,
   "outputs": [],
   "source": [
    "class Data:\n",
    "    def __init__(self, *info):\n",
    "        self.info = list(info)\n",
    "\n",
    "    def __getitem__(self, i):\n",
    "        return self.info[i]\n",
    "\n",
    "\n",
    "class Teacher:\n",
    "    def teach(self, info, *pupil):\n",
    "        for i in pupil:\n",
    "            i.take(info)\n",
    "\n",
    "\n",
    "class Pupil:\n",
    "    def __init__(self):\n",
    "        self.knowledge = []\n",
    "\n",
    "    def take(self, info):\n",
    "        self.knowledge.append(info)\n",
    "\n",
    "\n",
    "lesson = Data('class', 'object', 'inheritance', 'polymorphism', 'encapsulation')\n",
    "marIvanna = Teacher()\n",
    "vasy = Pupil()\n",
    "pety = Pupil()\n",
    "marIvanna.teach(lesson[2], vasy, pety)\n",
    "marIvanna.teach(lesson[0], pety)\n",
    "print(vasy.knowledge)\n",
    "print(pety.knowledge)"
   ],
   "metadata": {
    "collapsed": false,
    "pycharm": {
     "name": "#%%\n"
    }
   }
  },
  {
   "cell_type": "markdown",
   "source": [
    "#### 1.2.2 Пример\n",
    "Напишите программу по следующему описанию. Есть класс \"Воин\". От\n",
    "него создаются два экземпляра-юнита. Каждому устанавливается здоровье\n",
    "в 100 очков. В случайном порядке они бьют друг друга. Тот, кто бьет,\n",
    "здоровья не теряет. У того, кого бьют, оно уменьшается на 20 очков от\n",
    "одного удара. После каждого удара надо выводить сообщение, какой юнит\n",
    "атаковал, и сколько у противника осталось здоровья. Как только у кого-то\n",
    "заканчивается ресурс здоровья, программа завершается сообщением о том,\n",
    "кто одержал победу."
   ],
   "metadata": {
    "collapsed": false,
    "pycharm": {
     "name": "#%% md\n"
    }
   }
  },
  {
   "cell_type": "code",
   "execution_count": null,
   "outputs": [],
   "source": [
    "import random\n",
    "\n",
    "\n",
    "class Warrior:\n",
    "    def __init__(self, health):\n",
    "        self.health = health\n",
    "\n",
    "    def hit(self, target, target1):\n",
    "        if target.health > 0:\n",
    "            target.health -= 20\n",
    "        if target1 == warrior1:\n",
    "            target1 = 'Warrior1'\n",
    "        if target1 == warrior2:\n",
    "            target1 = 'Warrior2'\n",
    "        print(target1, ' has attacked')\n",
    "        print(target.health, ' left')\n",
    "        if target.health == 0:\n",
    "            print(target1, ' has won')\n",
    "\n",
    "\n",
    "warrior1 = Warrior(100)\n",
    "warrior2 = Warrior(100)\n",
    "q = int(input('Enter 1 to attack. Enter 2 to stop program: '))\n",
    "\n",
    "while q != 2:\n",
    "    if q == 1:\n",
    "        j = random.randint(1, 3)\n",
    "        if j % 2 == 0:\n",
    "            warrior1.hit(warrior2, warrior1)\n",
    "            q = int(input('Enter 1 to let some warrior attack: '))\n",
    "        else:\n",
    "            warrior2.hit(warrior1, warrior2)\n",
    "            q = int(input('Enter 1 to let some warrior attack: '))\n",
    "    else:\n",
    "        print('Wrong input.')\n",
    "        break"
   ],
   "metadata": {
    "collapsed": false,
    "pycharm": {
     "name": "#%%\n"
    }
   }
  },
  {
   "cell_type": "markdown",
   "source": [
    "#### 1.2.3 Пример\n",
    "#### Задача:\n",
    "Создайте класс по работе с дробями. В классе должна быть реализована следующая функциональность:\n",
    "    − сложение дробей;\n",
    "    − вычитание дробей;\n",
    "    − умножение дробей;\n",
    "    − деление дробей."
   ],
   "metadata": {
    "collapsed": false,
    "pycharm": {
     "name": "#%% md\n"
    }
   }
  },
  {
   "cell_type": "code",
   "execution_count": null,
   "outputs": [],
   "source": [
    "class Rational:\n",
    "\n",
    "    @staticmethod\n",
    "    def gcd(a, b):\n",
    "        while (b != 0):\n",
    "            (a, b) = (b, a % b)\n",
    "        return a\n",
    "\n",
    "    @staticmethod\n",
    "    def sgn(x):\n",
    "        if x > 0:\n",
    "            return 1\n",
    "        elif x < 0:\n",
    "            return -1\n",
    "        else:\n",
    "            return 0\n",
    "\n",
    "    def __init__(self, n, d):\n",
    "        if n == 0:\n",
    "            self.num = 0\n",
    "            self.den = 1\n",
    "        else:\n",
    "            z = self.sgn(n) * self.sgn(d)\n",
    "            n = abs(n)\n",
    "            d = abs(d)\n",
    "            k = self.gcd(n, d)\n",
    "            self.num = z * n // k\n",
    "            self.den = d // k\n",
    "\n",
    "    def __str__(self):\n",
    "        if self.num == 0:\n",
    "            return '0'\n",
    "        else:\n",
    "            return str(self.num) + '/' + str(self.den)\n",
    "\n",
    "    def __add__(self, o):\n",
    "        n1 = self.num\n",
    "        d1 = self.den\n",
    "        if type(o) == int:\n",
    "            n2 = o\n",
    "            d2 = 1\n",
    "        else:\n",
    "            n2 = o.num\n",
    "            d2 = o.den\n",
    "        n = n1 * d2 + n2 * d1\n",
    "        d = d1 * d2\n",
    "        return Rational(n, d)\n",
    "\n",
    "    def __radd__(self, o):\n",
    "        n1 = self.num\n",
    "        d1 = self.den\n",
    "        if type(o) == int:\n",
    "            n2 = o\n",
    "            d2 = 1\n",
    "        else:\n",
    "            n2 = o.num\n",
    "            d2 = o.den\n",
    "        n = n1 * d2 + n2 * d1\n",
    "        d = d1 * d2\n",
    "        return Rational(n, d)\n",
    "\n",
    "    def __sub__(self, o):\n",
    "        n1 = self.num\n",
    "        d1 = self.den\n",
    "        n2 = o.num\n",
    "        d2 = o.den\n",
    "        n = n1 * d2 - n2 * d1\n",
    "        d = d1 * d2\n",
    "        return Rational(n, d)\n",
    "\n",
    "    def __mul__(self, o):\n",
    "        n1 = self.num\n",
    "        d1 = self.den\n",
    "        n2 = o.num\n",
    "        d2 = o.den\n",
    "        n = n1 * n2\n",
    "        d = d1 * d2\n",
    "        return Rational(n, d)\n",
    "\n",
    "    def __floordiv__(self, o):\n",
    "        n1 = self.num\n",
    "        d1 = self.den\n",
    "        n2 = o.num\n",
    "        d2 = o.den\n",
    "        n = n1 * d2\n",
    "        d = d1 * n2\n",
    "        return Rational(n, d)\n",
    "\n",
    "\n",
    "d1 = Rational(1, 2)\n",
    "d2 = Rational(1, 3)\n",
    "d3 = d1 + d2\n",
    "print(d3)\n",
    "d4 = d1 - d2\n",
    "print(d4)\n",
    "d5 = d1 * d2\n",
    "print(d5)\n",
    "d6 = d1 * d2\n",
    "print(d6)\n",
    "d7 = d1 // d2\n",
    "print(d7)\n",
    "d8 = 6 + d1\n",
    "print(d8)"
   ],
   "metadata": {
    "collapsed": false,
    "pycharm": {
     "name": "#%%\n"
    }
   }
  },
  {
   "cell_type": "markdown",
   "source": [
    "#### Задание:\n",
    "Создайте класс по работе с тригонометрическими функциями. В классе\n",
    "должны быть реализованы функции вычисления:\n",
    "− косинуса;\n",
    "− синуса;\n",
    "− тангенса;\n",
    "− арксинуса;\n",
    "− арккосинуса;\n",
    "− арктангенса;\n",
    "− перевода из градусов в радианы"
   ],
   "metadata": {
    "collapsed": false,
    "pycharm": {
     "name": "#%% md\n"
    }
   }
  },
  {
   "cell_type": "code",
   "execution_count": null,
   "outputs": [],
   "source": [
    "import math\n",
    "\n",
    "\n",
    "class Trigonometry:\n",
    "    def __init__(self, x):\n",
    "        self.x = x\n",
    "\n",
    "    def cos(self):\n",
    "        return math.cos(self.x)\n",
    "\n",
    "    def sin(self):\n",
    "        return math.sin(self.x)\n",
    "\n",
    "    def tan(self):\n",
    "        return math.tan(self.x)\n",
    "\n",
    "    def asin(self):\n",
    "        return math.asin(self.x)\n",
    "\n",
    "    def acos(self):\n",
    "        return math.acos(self.x)\n",
    "\n",
    "    def atan(self):\n",
    "        return math.atan(self.x)\n",
    "\n",
    "    def degrees_to_radians(self):\n",
    "        return math.radians(self.x)\n"
   ],
   "metadata": {
    "collapsed": false,
    "pycharm": {
     "name": "#%%\n"
    }
   }
  },
  {
   "cell_type": "markdown",
   "source": [
    "#### 1.2. Теоретический материал - реализация деревьев в Python\n",
    "Любое представление графов, естественно, можно использовать для\n",
    "представления деревьев, потому что деревья — это особый вид графов.\n",
    "Однако, деревья играют свою большую роль в алгоритмах, и для них\n",
    "разработано много соответствующих структур и методов. Большинство\n",
    "алгоритмов на деревьях (например, поиск по деревьям) можно\n",
    "рассматривать в терминах теории графов, но специальные структуры\n",
    "данных делают их проще в реализации.\n",
    "Проще всего описать представление дерева с корнем, в котором ребра\n",
    "спускаются вниз от корня. Такие деревья часто отображают иерархическое\n",
    "ветвление данных, где корень отображает все объекты (которые, возможно,\n",
    "хранятся в листьях), а каждый внутренний узел показывает объекты,\n",
    "содержащиеся в дереве, корень которого — этот узел. Это описание можно\n",
    "использовать, представив каждое поддерево списком, содержащим все его\n",
    "поддеревья-потомки. Рассмотрим простое дерево, показанное на рисунке\n",
    "ниже.\n",
    "Мы можем представить это дерево как список списков:\n",
    "\n",
    "    T = [[\"a\", \"b\"], [\"c\"], [\"d\", [\"e\", \"f\"]]]\n",
    "    print(T[0][1])\n",
    "    print(T[2][1][0])\n",
    "    \n",
    "Каждый список в сущности является списком потомков каждого из\n",
    "внутренних узлов. Во втором примере мы обращаемся к третьему потомку\n",
    "корня, затем ко второму его потомку и в конце концов — к первому потомку\n",
    "предыдущего узла (этот путь отмечен на рисунке). В ряде случаев возможно\n",
    "заранее определить максимальное число потомков каждого узла. (Например,\n",
    "каждый узел бинарного дерева может иметь до двух потомков). Поэтому\n",
    "можно использовать другие представления, скажем, объекты с отдельным\n",
    "атрибутом для каждого из потомков как в листинге ниже"
   ],
   "metadata": {
    "collapsed": false,
    "pycharm": {
     "name": "#%% md\n"
    }
   }
  },
  {
   "cell_type": "markdown",
   "source": [
    "### 1.2.1 Пример\n",
    "#### Задача:\n",
    "Определите класс бинарного дерева и задайте его объекты с отдельным\n",
    "атрибутом для каждого из потомков"
   ],
   "metadata": {
    "collapsed": false,
    "pycharm": {
     "name": "#%% md\n"
    }
   }
  },
  {
   "cell_type": "code",
   "execution_count": null,
   "outputs": [],
   "source": [
    "class Tree:\n",
    "    def __init__(self, left, right):\n",
    "        self.left = left\n",
    "        self.right = right\n",
    "\n",
    "\n",
    "t = Tree(Tree('a', 'b'), Tree('c', 'd'))\n",
    "t.right.left"
   ],
   "metadata": {
    "collapsed": false,
    "pycharm": {
     "name": "#%%\n"
    }
   }
  },
  {
   "cell_type": "markdown",
   "source": [
    "#### 1.2.2. Пример\n",
    "Для обозначения отсутствующих потомков можно использовать None\n",
    "(в случае если у узла только один потомок). Само собой, можно\n",
    "комбинировать разные методы (например, использовать списки или\n",
    "множества потомков для каждого узла).\n",
    "Распространенный способ реализации деревьев, особенно на языках,\n",
    "не имеющих встроенной поддержки списков, это так называемое\n",
    "представление «первый потомок, следующий брат». В нем каждый узел\n",
    "имеет два «указателя» или атрибута, указывающих на другие узлы, как в\n",
    "бинарном дереве. Однако, первый из этих атрибутов ссылается на первого\n",
    "потомка узла, а второй — на его следующего брата (т.е. узел, имеющий\n",
    "того же родителя, но находящийся правее, — прим. перев). Иными\n",
    "словами, каждый узел дерева имеет указатель на связанный список его\n",
    "потомков, а каждый из этих потомков ссылается на свой собственный\n",
    "аналогичный список. Таким образом, небольшая модификация бинарного\n",
    "дерева даст нам многопутевое дерево, показанное в листинге ниже."
   ],
   "metadata": {
    "collapsed": false,
    "pycharm": {
     "name": "#%% md\n"
    }
   }
  },
  {
   "cell_type": "code",
   "execution_count": null,
   "outputs": [],
   "source": [
    "class Tree:\n",
    "    def __init__(self, kids, next=None):\n",
    "        self.kids = self.val = kids\n",
    "        self.next = next\n",
    "\n",
    "\n",
    "t = Tree(Tree('a', Tree('b', Tree('c', Tree('d')))))\n",
    "t.kids.next.next.val"
   ],
   "metadata": {
    "collapsed": false,
    "pycharm": {
     "name": "#%%\n"
    }
   }
  },
  {
   "cell_type": "markdown",
   "source": [
    "#### Задание\n",
    "Представьте дерево, показанное на рисунке с использованием списка из списков. Выведите на печать корень дерева, а также его левое и правое поддеревья."
   ],
   "metadata": {
    "collapsed": false,
    "pycharm": {
     "name": "#%% md\n"
    }
   }
  },
  {
   "cell_type": "code",
   "execution_count": null,
   "outputs": [],
   "source": [
    "T = ['a', ['b',\n",
    "           ['d', 'e'],\n",
    "           'c',\n",
    "           ['f']]]\n",
    "print(f'Корень дерева: {T[0]}')\n",
    "print(f'Левое поддерево: {T[1][1]}')\n",
    "print(f'Правое поддерево: {T[1][3]}')"
   ],
   "metadata": {
    "collapsed": false,
    "pycharm": {
     "name": "#%%\n"
    }
   }
  },
  {
   "cell_type": "markdown",
   "source": [
    "#### Задание:\n",
    "Дан класс, описывающий бинарное дерево.\n",
    "\n",
    "    class Tree:\n",
    "        def __init__(self, data):\n",
    "            self.left = None\n",
    "            self.right = None\n",
    "            self.data = data\n",
    "        def PrintTree(self):\n",
    "            print(self.data)\n",
    "            \n",
    "Реализуйте в классе функцию для вставки нового элемента в дерево по\n",
    "следующим правилам:\n",
    "• Левое поддерево узла содержит только узлы со значениями меньше,\n",
    "чем значение в узле.\n",
    "• Правое поддерево узла содержит только узлы со значениями меньше,\n",
    "чем значение в узле.\n",
    "• Каждое из левого и правого поддеревьев также должно быть\n",
    "бинарным деревом поиска.\n",
    "• Не должно быть повторяющихся узлов.\n",
    "Метод вставки сравнивает значение узла с родительским узлом и решает\n",
    "куда доваить элемент (в левое или правое поддерево). Перепишите, метод\n",
    "PrintTree для печати полной версии дерева."
   ],
   "metadata": {
    "collapsed": false,
    "pycharm": {
     "name": "#%% md\n"
    }
   }
  },
  {
   "cell_type": "code",
   "execution_count": null,
   "outputs": [],
   "source": [
    "class Tree:\n",
    "    def __init__(self, data):\n",
    "        self.left = None\n",
    "        self.right = None\n",
    "        self.data = data\n",
    "\n",
    "    def printTree(self):\n",
    "        # Если есть левый потомок, рекурсивно вызываем метод printTree для него\n",
    "        if self.left:\n",
    "            self.left.printTree()\n",
    "        # Выводим данные текущего узла\n",
    "        print(self.data)\n",
    "        if self.right:\n",
    "            self.right.printTree()\n",
    "\n",
    "    def insert_value(self, value):\n",
    "        # Если значение меньше, чем данные текущего узла\n",
    "        if value < self.data:\n",
    "            # Если левый потомок пустой, создаем новый узел с этим значением\n",
    "            if self.left is None:\n",
    "                self.left = Tree(value)\n",
    "            # Если существует - вызываем рекурсивно insert_value для него\n",
    "            else:\n",
    "                self.left.insert_value(value)\n",
    "        elif value > self.data:\n",
    "            if self.right is None:\n",
    "                self.right = Tree(value)\n",
    "            else:\n",
    "                self.right.insert_value(value)\n",
    "\n",
    "\n",
    "# Создание объекта класса с узлом 10\n",
    "t = Tree(10)\n",
    "t.insert_value(13)\n",
    "t.insert_value(2)\n",
    "t.printTree()"
   ],
   "metadata": {
    "collapsed": false,
    "pycharm": {
     "name": "#%%\n"
    }
   }
  },
  {
   "cell_type": "markdown",
   "source": [
    "#### 1.3. Теоретический материал - Деревья решений\n",
    "Дерево решений – это один из наиболее часто и широко используемых\n",
    "алгоритмов контролируемого машинного обучения, который может\n",
    "выполнять как регрессионные, так и классификационные задачи.\n",
    "Использование деревьев решений для прогнозного анализа имеет ряд\n",
    "преимуществ:\n",
    "1. Деревья решений могут быть использованы для\n",
    "прогнозирования как непрерывных, так и дискретных значений, т. е. они\n",
    "хорошо работают как для задач регрессии, так и для задач классификации.\n",
    "2. Они требуют относительно меньших усилий для обучения\n",
    "алгоритма.\n",
    "3. Они могут быть использованы для классификации нелинейно\n",
    "разделимых данных.\n",
    "4. Они очень быстры и эффективны по сравнению с KNN и\n",
    "другими алгоритмами классификации.\n",
    "Решим модельные примеры классификации и регрессии, разобранные\n",
    "в предыдущих раочих тетрадях, но с использованием деревьев принятия\n",
    "решений."
   ],
   "metadata": {
    "collapsed": false,
    "pycharm": {
     "name": "#%% md\n"
    }
   }
  },
  {
   "cell_type": "code",
   "execution_count": null,
   "outputs": [],
   "source": [
    "import pandas as pd\n",
    "import numpy as np\n",
    "import seaborn as sns\n",
    "import matplotlib.pyplot as plt\n",
    "from sklearn.model_selection import train_test_split\n",
    "from sklearn.tree import DecisionTreeClassifier\n",
    "from sklearn import tree\n",
    "from sklearn.metrics import classification_report, confusion_matrix\n",
    "\n",
    "dataset = sns.load_dataset('iris')\n",
    "dataset\n",
    "dataset.shape\n",
    "dataset.head()\n",
    "\n",
    "X_train, X_test, y_train, y_test = train_test_split(\n",
    "    # поскольку iris это pandas-таблица, для нее нужно указывать iloc\n",
    "    dataset.iloc[:, :-1],  # берем все колонки кроме последней в признаки\n",
    "    dataset.iloc[:, -1],  # последнюю в целевую переменную (класс)\n",
    "    test_size=0.20  # размер тестовой выборки 20%\n",
    ")\n",
    "\n",
    "X_train.shape, X_test.shape, y_train.shape, y_test.shape\n",
    "X_train.head()\n",
    "y_train.head()\n",
    "\n",
    "classifier = DecisionTreeClassifier()\n",
    "classifier.fit(X_train, y_train)\n",
    "\n",
    "# построим дерево решений\n",
    "\n",
    "\n",
    "tree.plot_tree(classifier)\n",
    "\n",
    "y_pred = classifier.predict(X_test)\n",
    "y_pred\n",
    "\n",
    "print(confusion_matrix(y_test, y_pred))\n",
    "print(classification_report(y_test, y_pred))"
   ],
   "metadata": {
    "collapsed": false,
    "pycharm": {
     "name": "#%%\n"
    }
   }
  },
  {
   "cell_type": "markdown",
   "source": [
    "#### Задание\n",
    "#### Задача:\n",
    "Постройте классификатор на основе дерева принятия решений следующего датасета:\n",
    "\n",
    "    # данные\n",
    "    X = np.array([[-1, -1], [-2, -1], [-3, -2], [1, 1], [2,1], [3, 2]])\n",
    "    target = [0, 0, 0, 1, 1, 1]"
   ],
   "metadata": {
    "collapsed": false,
    "pycharm": {
     "name": "#%% md\n"
    }
   }
  },
  {
   "cell_type": "code",
   "execution_count": null,
   "outputs": [],
   "source": [
    "from sklearn.model_selection import train_test_split\n",
    "from sklearn.tree import DecisionTreeClassifier\n",
    "from sklearn import tree\n",
    "from sklearn.metrics import classification_report, confusion_matrix\n",
    "\n",
    "# данные\n",
    "X = np.array([[-1, -1], [-2, -1], [-3, -2], [1, 1], [2, 1], [3, 2]])\n",
    "target = [0, 0, 0, 1, 1, 1]\n",
    "\n",
    "X_train, X_test, y_train, y_test = train_test_split(\n",
    "    X,\n",
    "    target,\n",
    "    test_size=0.20  # размер тестовой выборки 20%\n",
    ")\n",
    "classifier = DecisionTreeClassifier()\n",
    "classifier.fit(X_train, y_train)\n",
    "\n",
    "tree.plot_tree(classifier)\n",
    "\n",
    "y_pred = classifier.predict(X_test)\n",
    "y_pred\n",
    "\n",
    "print(confusion_matrix(y_test, y_pred))\n",
    "print(classification_report(y_test, y_pred))"
   ],
   "metadata": {
    "collapsed": false,
    "pycharm": {
     "name": "#%%\n"
    }
   }
  },
  {
   "cell_type": "markdown",
   "source": [
    "#### Задание\n",
    "#### Задача:\n",
    "Постройте модель регрессии для данных из предыдущей рабочей\n",
    "тетради.Для примера можно взять потребления газа (в миллионах\n",
    "галлонов) в 48 штатах США или набор данных о качестве красного вина:\n",
    "https://raw.githubusercontent.com/likarajo/petrol_consumption/master/data/pet\n",
    "rol_consumption.csv\n",
    "https://raw.githubusercontent.com/aniruddhachoudhury/Red-Wine-Quality/master/winequality-red.csv\n",
    "Постройте прогноз. Оцените точность модели."
   ],
   "metadata": {
    "collapsed": false,
    "pycharm": {
     "name": "#%% md\n"
    }
   }
  },
  {
   "cell_type": "code",
   "execution_count": null,
   "outputs": [],
   "source": [
    "import pandas as pd\n",
    "import numpy as np\n",
    "from sklearn.model_selection import train_test_split\n",
    "from sklearn.tree import DecisionTreeRegressor\n",
    "from sklearn import metrics\n",
    "from sklearn import tree\n",
    "\n",
    "url = pd.read_csv('https://raw.githubusercontent.com/aniruddhachoudhury/'\n",
    "                  'Red-Wine-Quality/master/winequality-red.csv')\n",
    "y = [url.quality]\n",
    "x = [url.pH, url.alcohol, url.density]\n",
    "\n",
    "new_y = np.array(y)\n",
    "new_y = new_y.transpose()\n",
    "df1 = pd.DataFrame(new_y)\n",
    "new_x = np.array(x)\n",
    "new_x = new_x.transpose()\n",
    "df2 = pd.DataFrame(new_x)\n",
    "df1 = df1.rename(columns={0: 'y'}, inplace=False)\n",
    "df2 = df2.rename(columns={0: 'x1', 1: 'x2', 2: 'x3'}, inplace=False)\n",
    "frames = [df1, df2]\n",
    "dataset = pd.concat([df1, df2], axis=1, join=\"inner\")\n",
    "\n",
    "print(dataset.head())\n",
    "print(dataset.shape)\n",
    "print(dataset.describe())\n",
    "\n",
    "x = dataset[['x1', 'x2', 'x3']]\n",
    "y = dataset['y']\n",
    "\n",
    "x_train, x_test, y_train, y_test = train_test_split(x, y, test_size=0.2, random_state=0)\n",
    "regressor = DecisionTreeRegressor()\n",
    "regressor.fit(x_train, y_train)\n",
    "tree.plot_tree(regressor)\n",
    "coeff_df = pd.DataFrame(regressor.score(x_train, y_train), x.columns, columns=['Coefficient'])\n",
    "\n",
    "print(coeff_df)\n",
    "\n",
    "y_pred = regressor.predict(x_test)\n",
    "df = pd.DataFrame({'Actual': y_test,\n",
    "                   'Predicted': y_pred})\n",
    "print(df)\n",
    "print('Mean Squared Error:', metrics.mean_squared_error(y_test, y_pred))"
   ],
   "metadata": {
    "collapsed": false,
    "pycharm": {
     "name": "#%%\n"
    }
   }
  }
 ],
 "metadata": {
  "kernelspec": {
   "display_name": "Python 3 (ipykernel)",
   "language": "python",
   "name": "python3"
  },
  "language_info": {
   "codemirror_mode": {
    "name": "ipython",
    "version": 3
   },
   "file_extension": ".py",
   "mimetype": "text/x-python",
   "name": "python",
   "nbconvert_exporter": "python",
   "pygments_lexer": "ipython3",
   "version": "3.11.1"
  }
 },
 "nbformat": 4,
 "nbformat_minor": 1
}