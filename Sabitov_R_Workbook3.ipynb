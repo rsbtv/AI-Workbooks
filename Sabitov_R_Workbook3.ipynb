{
 "cells": [
  {
   "cell_type": "markdown",
   "id": "00932995",
   "metadata": {
    "pycharm": {
     "name": "#%% md\n"
    }
   },
   "source": [
    "# Рабочая тетрадь №3 "
   ]
  },
  {
   "cell_type": "markdown",
   "id": "6cb0d250",
   "metadata": {
    "pycharm": {
     "name": "#%% md\n"
    }
   },
   "source": [
    "## 1.1 Теоретический материал - Функции Python\n",
    "    \n",
    "   Перед тем как рассматривать задачи классификации \n",
    "вспомним понятие функции (метода) в Python. Функция в python - объект,\n",
    "принимающий аргументы и возвращающий значение. Обычно функция\n",
    "определяется с помощью функции 'def'.\n",
    "    Определим простейшую функцию:\n",
    "       \n",
    "       def add(x,y):\n",
    "        return x + y\n",
    "    \n",
    "   Инструкция return говорит, что нужно вернуть значение. В нашем\n",
    "случае функция возвращает сумму x и y. Теперь мы ее можем вызвать:\n",
    "    \n",
    "    add(1,10)\n",
    "    add('abc', 'def')\n",
    "    'abcdef'\n",
    "    \n",
    "   Функция может быть любой сложности и возвращать любые объекты\n",
    "(списки, кортежи, и даже функции):\n",
    "    \n",
    "    def newfunc(n):\n",
    "        def myfunc(x):\n",
    "            return x + n\n",
    "        return myfunc\n",
    "    new = newfunc(100) # new - это функция\n",
    "    new(200)\n",
    "    300\n",
    "    \n",
    "   Функция может и не заканчиваться инструкцией return, при этом\n",
    "функция вернет значение None:\n",
    "    \n",
    "    def func():\n",
    "        pass\n",
    "    print(func())\n",
    "    None\n",
    "    \n",
    "   Функция может принимать произвольное количество аргументов или \n",
    "не принимать их вовсе. Также распространены функции с произвольным\n",
    "числом аргументов, функции с позиционными и именованными\n",
    "аргументами, обязательными и необязательными.\n",
    "    \n",
    "    def func(*args):\n",
    "        return args\n",
    "    func(1,2,3,'abc')\n",
    "    (1,2,3,'abc')\n",
    "    func()\n",
    "    ()\n",
    "    func(1)\n",
    "    (1,)\n",
    "    \n",
    "   Как видно из примера, args - это кортеж из всех переданных\n",
    "аргументов функции, и с переменной можно работать также, как и с кортежем.\n",
    "    Функция может принимать и произвольное число именованных\n",
    "аргументов, тогда перед именем ставится **:\n",
    "    \n",
    "    def func(**kwargs):\n",
    "        return kwargs\n",
    "    func(a=1, b=2, c=3)\n",
    "    {'a':1, 'c':3, 'b':2}\n",
    "    func()\n",
    "    {}\n",
    "    func(a='python')\n",
    "    {'a':'python'}"
   ]
  },
  {
   "cell_type": "markdown",
   "id": "ebac17d2",
   "metadata": {
    "pycharm": {
     "name": "#%% md\n"
    }
   },
   "source": [
    "### 1.2.1 Пример\n",
    "#### Задача:\n",
    "   Напишите функцию sum_range(start, end), которая суммирует все целые\n",
    "числа от значения \"start\" до величины \"end\" включительно.\n",
    "Если пользователь задаст первое число большее чем второе, просто поменяйте их местами."
   ]
  },
  {
   "cell_type": "code",
   "execution_count": null,
   "outputs": [],
   "source": [
    "def sum_range(start, end):\n",
    "    if start > end:\n",
    "        end, start = start, end\n",
    "    return sum(range(start, end + 1))\n",
    "\n",
    "\n",
    "# Тесты\n",
    "print(sum_range(2, 12))\n",
    "print(sum_range(-4, 4))\n",
    "print(sum_range(3, 2))"
   ],
   "metadata": {
    "collapsed": false,
    "pycharm": {
     "name": "#%%\n"
    }
   }
  },
  {
   "cell_type": "markdown",
   "source": [
    "### 1.2.2 Пример\n",
    "#### Задача:\n",
    "Напишите рекурсивную функцию вычисления факториала на языке \n",
    "Python."
   ],
   "metadata": {
    "collapsed": false,
    "pycharm": {
     "name": "#%% md\n"
    }
   }
  },
  {
   "cell_type": "code",
   "execution_count": null,
   "outputs": [],
   "source": [
    "def fact(num):\n",
    "    if num == 0:\n",
    "        return 1  # По договоренности факториал нуля равен единице\n",
    "    else:\n",
    "        return num * fact(num - 1)\n",
    "    # Возвращаем результат произведения num и результата возвращенного функцией fact(num-1)\n",
    "\n",
    "\n",
    "print(fact(5))"
   ],
   "metadata": {
    "collapsed": false,
    "pycharm": {
     "name": "#%%\n"
    }
   }
  },
  {
   "cell_type": "markdown",
   "source": [
    "# 1.1. Теоретический материал - Расстояние между объектами класса\n",
    "### Определение расстояния между объектами класса\n",
    "   Сходство или различие между объектами классификации\n",
    "устанавливается в зависимости от выбранного метрического расстояния\n",
    "между ними. Если каждый объект описывается n свойствами (признака), \n",
    "то он может быть представлен как точка в n-мерном пространстве, и\n",
    "сходство с другими объектами будет определяться как соответствующее\n",
    "расстояние. При классификации используются различные меры расстояния между объектами\n",
    "\n",
    "    1. Евклидово расстояние\n",
    "   Это, пожалуй, наиболее часто используемая мера расстояния. Она\n",
    "является геометрическим расстоянием в многомерном пространстве.\n",
    "\n",
    "    2. Взвешенное евклидово расстояние\n",
    "   Данная мера расстояния испльзуется в тех случаях, когда требуется придать большее значение более отдаленным друг от друга обхектам.\n",
    "   \n",
    "    3. Взвешенное евклидово расстояние\n",
    "   Применяется в тех случаях, когда каждому i-свойству удается приписать некоторый \"вес\" wi, пропорционально степени важности признака в задаче классификации.\n",
    "    \n",
    "    4. Хеммингово расстояние\n",
    "   Также называеся манхэттенским, сити-блок расстоянием или расстоянием городских кварталов. Это расстояние является разностью по координатам.\n",
    "    \n",
    "    5. Расстояние Чебышева\n",
    "   Принимается значение наибольшего модуля разности между значениями соответствующих свойств (признаков) объектов.\n",
    "   \n",
    "   Выбор меры расстояния и весов для классифицирующих свойств - \n",
    "очень важный этап, так как от этих процедур зависят состав и количество\n",
    "формируемых классов, а также степень сходства объектов внутри классов."
   ],
   "metadata": {
    "collapsed": false,
    "pycharm": {
     "name": "#%% md\n"
    }
   }
  },
  {
   "cell_type": "markdown",
   "source": [
    "### 1.2.3 Пример\n",
    "#### Задача:\n",
    "Напишите функции в Python, которая вычисляет Евклидово расстояние\n",
    "между двумя массивами Numpy."
   ],
   "metadata": {
    "collapsed": false,
    "pycharm": {
     "name": "#%% md\n"
    }
   }
  },
  {
   "cell_type": "code",
   "execution_count": null,
   "outputs": [],
   "source": [
    "import numpy as np\n",
    "\n",
    "\n",
    "def euclidean_distance(v1, v2):\n",
    "    return sum((x - y) ** 2 for x, y in zip(v1, v2)) ** 0.5\n",
    "\n",
    "\n",
    "x = np.array([0, 0, 0])\n",
    "y = np.array([3, 3, 3])\n",
    "print(euclidean_distance(x, y))"
   ],
   "metadata": {
    "collapsed": false,
    "pycharm": {
     "name": "#%%\n"
    }
   }
  },
  {
   "cell_type": "markdown",
   "source": [
    "### 1.2.4 Пример\n",
    "#### Задача:\n",
    "Напишите 4 функции в Python, которые рассчитывают квадрат Евклидова\n",
    "расстояния, взвешенное евклидово расстояние, Хеммингово расстояние и\n",
    "расстояние Чебышева между двумя массива Numpy."
   ],
   "metadata": {
    "collapsed": false,
    "pycharm": {
     "name": "#%% md\n"
    }
   }
  },
  {
   "cell_type": "code",
   "execution_count": null,
   "outputs": [],
   "source": [
    "import numpy as np\n",
    "\n",
    "\n",
    "def sqr_euclidean_distance(v1, v2):\n",
    "    return sum((x - y) ** 2 for x, y in zip(v1, v2))\n",
    "\n",
    "\n",
    "def weighted_euclidean_distance(v1, v2, w):\n",
    "    return sum((x - y) ** 2 * s for x, y, s in zip(v1, v2, w)) ** 0.5\n",
    "\n",
    "\n",
    "def manhattan_distance(v1, v2):\n",
    "    return sum(abs(x - y) for (x, y) in zip(v1, v2))\n",
    "\n",
    "\n",
    "def chebyshev_distance(v1, v2):\n",
    "    return max(abs(x - y) for (x, y) in zip(v1, v2))\n",
    "\n",
    "\n",
    "x = np.array([0, 0, 0])\n",
    "y = np.array([3, 3, 3])\n",
    "w = np.array([0, 0, 1])\n",
    "print(sqr_euclidean_distance(x, y))\n",
    "print(weighted_euclidean_distance(x, y, w))\n",
    "print(manhattan_distance(x, y))\n",
    "print(chebyshev_distance(x, y))"
   ],
   "metadata": {
    "collapsed": false,
    "pycharm": {
     "name": "#%%\n"
    }
   }
  },
  {
   "cell_type": "markdown",
   "source": [
    "### 1.2.5 Пример\n",
    "#### Задача:\n",
    "В Python есть встроенные функции для вычисления расстояний между векторами. Мы будем использовать NumPy для расчета расстояния для двух точек, посколько ранее рассмотренные структуры данных могут быть переведены в Numpy массив с помощью специальных функций. Например, для серий это будет выглядеть следующим образом: seriesName.to_numpy().\n",
    "\n",
    "Для удобства визуализации и анализа результатов в дальнейших расчетах будем использовать 2 точки в 3-х мерном пространстве:"
   ],
   "metadata": {
    "collapsed": false,
    "pycharm": {
     "name": "#%% md\n"
    }
   }
  },
  {
   "cell_type": "code",
   "execution_count": null,
   "outputs": [],
   "source": [
    "import matplotlib.pyplot as plt\n",
    "from mpl_toolkits.mplot3d import Axes3D\n",
    "\n",
    "fig = plt.figure()\n",
    "ax = fig.add_subplot(111, projection='3d')\n",
    "\n",
    "ax.scatter(0, 0, 0)\n",
    "ax.scatter(3, 3, 3)\n",
    "plt.show()"
   ],
   "metadata": {
    "collapsed": false,
    "pycharm": {
     "name": "#%%\n"
    }
   }
  },
  {
   "cell_type": "markdown",
   "source": [
    "### 1.2.6 Пример\n",
    "#### Задача:\n",
    "Рассчитать расстояния между двумя точками с использованием методов определения расстояний, представленных выше"
   ],
   "metadata": {
    "collapsed": false,
    "pycharm": {
     "name": "#%% md\n"
    }
   }
  },
  {
   "cell_type": "code",
   "execution_count": null,
   "outputs": [],
   "source": [
    "# Расстояние Евклида \n",
    "print(np.linalg.norm(x - y))\n",
    "# Квадрат Евквлидова расстояния\n",
    "print(np.linalg.norm(x - y) ** 2)\n",
    "# Расстояние Чебышева\n",
    "print(np.linalg.norm(x - y, ord=np.inf))\n",
    "# Расстояние Хемминга\n",
    "print(np.linalg.norm(x - y, ord=1))"
   ],
   "metadata": {
    "collapsed": false,
    "pycharm": {
     "name": "#%%\n"
    }
   }
  },
  {
   "cell_type": "markdown",
   "source": [
    "### 1.3.1 Задание\n",
    "#### Задача:\n",
    "Создать 5х5 матрицу со значения в строках от 0 до 4. Для создания необходимо исапользовать функцию arange."
   ],
   "metadata": {
    "collapsed": false,
    "pycharm": {
     "name": "#%% md\n"
    }
   }
  },
  {
   "cell_type": "code",
   "execution_count": null,
   "outputs": [],
   "source": [
    "import numpy as np\n",
    "\n",
    "Z = np.zeros((5, 5))\n",
    "Z += np.arange(5)\n",
    "print(Z)"
   ],
   "metadata": {
    "collapsed": false,
    "pycharm": {
     "name": "#%%\n"
    }
   }
  },
  {
   "cell_type": "markdown",
   "source": [
    "## 2.1 Теоретический материал - Задачи классификации\n",
    "### Решение задачи классификации методов k ближайших соседей\n",
    "Метод k-ближайших соседей используется для решения задачи классификации. он относит объекты к классу, которому принадлежит большинство из k его ближайших соседей в многомерном пространстве признаков. Это один из простейших алгоритмов обучения классификационных моделей. Число k - это количество сосдених объектов в пространстве признаков, которые сравниваются с классифицируемым объектом. иными словами, если k=10, то каждый объект сравнивается с 10-ю соседями. В процессе обучения алгоритм просто запоминает все векторы признаков и соответствующие им метки классов. При работе с реальными данными, т.е. наблюдениями, метки класса которых неизвестны, вычисляется расстояние между вектором нового наблюдения и ранее запомненными. затем выбирается k ближайших к нему векторов, и новый объект относится к классу, которому принадлежит большинство из них. Приведем алгоритм метода.\n",
    "    1. Выберите значение k соседей (скажем k = 5)\n",
    "    2. найдите ближайшую точку данных K (5) для нашей новой точки данных на основе евклидова расстояния (которое мы обсудим позже)\n",
    "    3. Среди этих K точек данных подсчитайте точки данных в каждой категории.\n",
    "    4. Назначьте новую точку данных категории, которая имеет наибольшее количество соседей с новой точкой данных.\n",
    "    \n",
    "   Модуль библиотеки sklearn - sklearn.neighbors предоставляет функциональные возможности для контролируемого обучения на основе соседей. Обучения на основе контролируемых соседей бывает двух видов: классификация данных с дискретными метками и регрессия для данных с непрерывными метками. В данном разделе рассмотрим несколько примеров с испльзованием названного метода."
   ],
   "metadata": {
    "collapsed": false,
    "pycharm": {
     "name": "#%% md\n"
    }
   }
  },
  {
   "cell_type": "markdown",
   "source": [
    "### 2.2.1 Пример\n",
    "#### Задача:\n",
    "В примере показано создание 2d-массива со значениями x и y. Список target содержит возможные выходные классы (часто называемые метками). Далее происходит обучение классификатора k-ближайших соседей по исходным данным. Далее производится прогноз принадлежности к классам для двух точек данных."
   ],
   "metadata": {
    "collapsed": false,
    "pycharm": {
     "name": "#%% md\n"
    }
   }
  },
  {
   "cell_type": "code",
   "execution_count": null,
   "outputs": [],
   "source": [
    "from sklearn.neighbors import KNeighborsClassifier\n",
    "import numpy as np\n",
    "\n",
    "# Данные \n",
    "X = np.array([[-1, -1], [-2, -1], [-3, -2], [1, 1], [2, 1], [3, 2]])\n",
    "target = [0, 0, 0, 1, 1, 1]\n",
    "\n",
    "# Обучаем модель k-ближайшей соседей к данным\n",
    "K = 3\n",
    "model = KNeighborsClassifier(n_neighbors=K)\n",
    "model.fit(X, target)\n",
    "print(model)\n",
    "\n",
    "# Делаем прогноз\n",
    "print('(-2, -2) is class')\n",
    "print(model.predict([[-2, -2]]))\n",
    "\n",
    "print('(1,3) is class')\n",
    "print(model.predict([[1, 3]]))"
   ],
   "metadata": {
    "collapsed": false,
    "pycharm": {
     "name": "#%%\n"
    }
   }
  },
  {
   "cell_type": "markdown",
   "source": [
    "### 2.2.2 Пример\n",
    "#### Задача:\n",
    "Далее приведем более наглядный пример. Будет построена граница\n",
    "решения для каждого класса. В качестве данных будем использовать уже\n",
    "знакомый нам и встроенный в библиотеку sklearn набор данных ирисов\n",
    "Фишера. Этот набор данных стал уже классическим, и часто используется\n",
    "в литературе для иллюстрации работы различных статистических\n",
    "алгоритмов. Датасет содержит наблюдения за 150 разными цветками\n",
    "ирисов, данные по каждому цветку расположены в строках. В стобцах\n",
    "записаны длина и ширина чашелистика, длина и ширина лепестка, вид\n",
    "ириса."
   ],
   "metadata": {
    "collapsed": false,
    "pycharm": {
     "name": "#%% md\n"
    }
   }
  },
  {
   "cell_type": "code",
   "execution_count": null,
   "outputs": [],
   "source": [
    "from sklearn.neighbors import KNeighborsClassifier\n",
    "import seaborn as sns\n",
    "\n",
    "iris = sns.load_dataset('iris')\n",
    "iris"
   ],
   "metadata": {
    "collapsed": false,
    "pycharm": {
     "name": "#%%\n"
    }
   }
  },
  {
   "cell_type": "markdown",
   "source": [
    "### 2.2.3 Пример\n",
    "#### Задача:\n",
    "Покажем на графиках зависимости ширины лепестка от его длины, а также\n",
    "аналогичный график зависимость для длины и ширины чашелистика.\n",
    "Разные виды цветков отмечены разными цветами."
   ],
   "metadata": {
    "collapsed": false,
    "pycharm": {
     "name": "#%% md\n"
    }
   }
  },
  {
   "cell_type": "code",
   "execution_count": null,
   "outputs": [],
   "source": [
    "# Объявляем фигуру из двух графиков и ее размер\n",
    "plt.figure(figsize=(16, 7))\n",
    "\n",
    "# Левый график\n",
    "plt.subplot(121)\n",
    "sns.scatterplot(\n",
    "    data=iris,  # из этой таблицы нарисовать точки\n",
    "    x='petal_width', y='petal_length',  # с этими координатами,\n",
    "    hue='species',  # для которых цвет определить согласно этому столбцу\n",
    "    s=70  # размер точек\n",
    ")\n",
    "plt.xlabel('Длина лепестка, см')\n",
    "plt.ylabel('Ширина лепестка, см')\n",
    "plt.legend()  # добавить легенду\n",
    "plt.grid()  # добавить сетку\n",
    "\n",
    "# Правый график аналогично\n",
    "plt.subplot(122)\n",
    "sns.scatterplot(data=iris, x='sepal_width', y='sepal_length', hue='species', s=70)\n",
    "plt.xlabel('Длина чашелистика, см')\n",
    "plt.ylabel('Ширина чашелистика, см')\n",
    "plt.legend()\n",
    "plt.grid()"
   ],
   "metadata": {
    "collapsed": false,
    "pycharm": {
     "name": "#%%\n"
    }
   }
  },
  {
   "cell_type": "markdown",
   "source": [
    "### 2.2.4 Пример\n",
    "#### Задача:\n",
    "Из графиков видно, что в первом случае классы визуально хорошо\n",
    "отделимы друг от друга, хотя два классе имеют небольшое пересечение.\n",
    "Во втором случае разделить два класса между собой уже намного труднее.\n",
    "Далее разделим датасет на обучающую и тестовую выборки в\n",
    "соотношении 80:20. Обучающая выборка (training sample) — выборка, по\n",
    "которой производится настройка (оптимизация параметров) модели\n",
    "зависимости. Тестовая (или контрольная) выборка (test sample) —\n",
    "выборка, по которой оценивается качество построенной модели."
   ],
   "metadata": {
    "collapsed": false,
    "pycharm": {
     "name": "#%% md\n"
    }
   }
  },
  {
   "cell_type": "code",
   "execution_count": null,
   "outputs": [],
   "source": [
    "from sklearn.model_selection import train_test_split\n",
    "from sklearn.neighbors import KNeighborsClassifier\n",
    "import matplotlib.pyplot as plt\n",
    "import numpy as np\n",
    "import seaborn as sns\n",
    "\n",
    "iris = sns.load_dataset('iris')\n",
    "X_train, X_test, y_train, y_test = train_test_split(\n",
    "    # поскольку iris это pandas-таблица, для нее нужно указывать iloc\n",
    "    iris.iloc[:, :-1],  # берем все колонки кроме последней в признаки\n",
    "    iris.iloc[:, -1],  # последнюю в целевую переменную (класс)\n",
    "    test_size=0.20  # размер тестовой выборки 20 %\n",
    ")\n",
    "\n",
    "X_train.shape, X_test.shape, y_train.shape, y_test.shape\n",
    "X_train.head\n",
    "y_train.head\n",
    "\n",
    "# Обучим метод трех ближайших соседей\n",
    "model = KNeighborsClassifier(n_neighbors=3)\n",
    "model.fit(X_train, y_train)\n",
    "\n",
    "# Получим предсказания модели\n",
    "y_pred = model.predict(X_test)\n",
    "y_pred\n",
    "\n",
    "# Покажем на графике, что отражает полученное число.\n",
    "# Красным цветом, обозначены точки, для которых классификация сработала неправильно\n",
    "plt.figure(figsize=(10, 7))\n",
    "sns.scatterplot(x='petal_width', y='petal_length', data=iris, hue='species', s=70)\n",
    "plt.xlabel('Длина лепестка, см')\n",
    "plt.ylabel('ирина лепестка, см')\n",
    "plt.legend(loc=2)\n",
    "plt.grid()\n",
    "\n",
    "# Перебираем все объекты из теста\n",
    "for i in range(len(y_test)):\n",
    "    # Если предсказание неправильное\n",
    "    if np.array(y_test)[i] != y_pred[i]:\n",
    "        # То подсвечиваем точку красным\n",
    "        plt.scatter(X_test.iloc[i, 3], X_test.iloc[i, 2], color='red', s=150)\n",
    "\n",
    "# Качество модели (доля правильно классифицированных точек)\n",
    "from sklearn.metrics import accuracy_score\n",
    "\n",
    "print(f\"accuracy: {accuracy_score(y_test, y_pred) : .3}\")"
   ],
   "metadata": {
    "collapsed": false,
    "pycharm": {
     "name": "#%%\n"
    }
   }
  },
  {
   "cell_type": "markdown",
   "source": [
    "#### 2.3.1 Задание\n",
    "Для предыдущего примера поэкспериментируйте с параметрами\n",
    "классификатора:\n",
    "1. Установите другое количество ближайших соседей (k = 1, 5, 10).\n",
    "2. Установите размер тестовой выборки 15% от всего датасета.\n",
    "3. Постройте графики и оцените качество моделей, проанализируйте\n",
    "результаты."
   ],
   "metadata": {
    "collapsed": false,
    "pycharm": {
     "name": "#%% md\n"
    }
   }
  },
  {
   "cell_type": "code",
   "execution_count": null,
   "outputs": [],
   "source": [
    "from sklearn.model_selection import train_test_split\n",
    "from sklearn.neighbors import KNeighborsClassifier\n",
    "import matplotlib.pyplot as plt\n",
    "import numpy as np\n",
    "import seaborn as sns\n",
    "\n",
    "iris = sns.load_dataset('iris')\n",
    "X_train, X_test, y_train, y_test = train_test_split(\n",
    "    # поскольку iris это pandas-таблица, для нее нужно указывать iloc\n",
    "    iris.iloc[:, :-1],  # берем все колонки кроме последней в признаки\n",
    "    iris.iloc[:, -1],  # последнюю в целевую переменную (класс)\n",
    "    test_size=0.15  # размер тестовой выборки 15 %\n",
    ")\n",
    "\n",
    "X_train.shape, X_test.shape, y_train.shape, y_test.shape\n",
    "X_train.head\n",
    "y_train.head\n",
    "\n",
    "# Обучим метод k-ближайших соседей\n",
    "model = KNeighborsClassifier(n_neighbors=10)  # Количество ближайших соседей = 10\n",
    "model.fit(X_train, y_train)\n",
    "\n",
    "# Получим предсказания модели\n",
    "y_pred = model.predict(X_test)\n",
    "y_pred\n",
    "\n",
    "# Покажем на графике, что отражает полученное число.\n",
    "# Красным цветом, обозначены точки, для которых классификация сработала неправильно\n",
    "plt.figure(figsize=(10, 7))\n",
    "sns.scatterplot(x='petal_width', y='petal_length', data=iris, hue='species', s=70)\n",
    "plt.xlabel('Длина лепестка, см')\n",
    "plt.ylabel('ирина лепестка, см')\n",
    "plt.legend(loc=2)\n",
    "plt.grid()\n",
    "\n",
    "# Перебираем все объекты из теста\n",
    "for i in range(len(y_test)):\n",
    "    # Если предсказание неправильное\n",
    "    if np.array(y_test)[i] != y_pred[i]:\n",
    "        # То подсвечиваем точку красным\n",
    "        plt.scatter(X_test.iloc[i, 3], X_test.iloc[i, 2], color='red', s=150)\n",
    "\n",
    "# Качество модели (доля правильно классифицированных точек)\n",
    "from sklearn.metrics import accuracy_score\n",
    "\n",
    "print(f\"accuracy: {accuracy_score(y_test, y_pred) : .3}\")"
   ],
   "metadata": {
    "collapsed": false,
    "pycharm": {
     "name": "#%%\n"
    }
   }
  },
  {
   "cell_type": "markdown",
   "source": [
    "#### 3.3.2 Задание\n",
    "Определите набор признаков человека, по аналогии из РТ 1, – например,\n",
    "цвет глаз и конвертируйте его в матрицу признаков."
   ],
   "metadata": {
    "collapsed": false,
    "pycharm": {
     "name": "#%% md\n"
    }
   }
  },
  {
   "cell_type": "code",
   "execution_count": null,
   "outputs": [],
   "source": [],
   "metadata": {
    "collapsed": false,
    "pycharm": {
     "name": "#%%\n"
    }
   }
  },
  {
   "cell_type": "code",
   "execution_count": null,
   "outputs": [],
   "source": [],
   "metadata": {
    "collapsed": false,
    "pycharm": {
     "name": "#%%\n"
    }
   }
  },
  {
   "cell_type": "code",
   "execution_count": null,
   "outputs": [],
   "source": [
    "from sklearn.feature_extraction import DictVectorizer\n",
    "\n",
    "data_dict = [\n",
    "    {\"Зелёный\": 0.4, \"Серый\": 0.6},\n",
    "    {'Карий': 0.3, 'Голубой': 0.2, \"Серый\": 0.5},\n",
    "    {\"Голубой\": 0.8, \"Серый\": 0.2},\n",
    "    {\"Карий\": 0.5, \"Серый\": 0.5}\n",
    "]\n",
    "dictvectorizer = DictVectorizer(sparse=False)\n",
    "features = dictvectorizer.fit_transform(data_dict)\n",
    "print(features)\n"
   ],
   "metadata": {
    "collapsed": false,
    "pycharm": {
     "name": "#%%\n"
    }
   }
  },
  {
   "cell_type": "markdown",
   "id": "7db34c60",
   "metadata": {
    "pycharm": {
     "name": "#%% md\n"
    }
   },
   "source": [
    "#### 2.3.1 Задание\n",
    "Для предыдущего примера поэкспериментируйте с параметрами\n",
    "классификатора:\n",
    "1. Установите другое количество ближайших соседей (k = 1, 5, 10).\n",
    "2. Установите размер тестовой выборки 15% от всего датасета.\n",
    "3. Постройте графики и оцените качество моделей, проанализируйте\n",
    "результаты."
   ]
  },
  {
   "cell_type": "code",
   "execution_count": 15,
   "id": "c205c383",
   "metadata": {
    "pycharm": {
     "name": "#%%\n"
    }
   },
   "outputs": [
    {
     "name": "stdout",
     "output_type": "stream",
     "text": [
      "accuracy:  1.0\n"
     ]
    },
    {
     "data": {
      "image/png": "[encoded data removed]",
      "text/plain": [
       "<Figure size 1000x700 with 1 Axes>"
      ]
     },
     "metadata": {},
     "output_type": "display_data"
    }
   ],
   "source": [
    "from sklearn.model_selection import train_test_split\n",
    "from sklearn.neighbors import KNeighborsClassifier\n",
    "import matplotlib.pyplot as plt\n",
    "import numpy as np\n",
    "import seaborn as sns\n",
    "\n",
    "iris = sns.load_dataset('iris')\n",
    "X_train, X_test, y_train, y_test = train_test_split(\n",
    "    # поскольку iris это pandas-таблица, для нее нужно указывать iloc\n",
    "    iris.iloc[:, :-1],  # берем все колонки кроме последней в признаки\n",
    "    iris.iloc[:, -1],  # последнюю в целевую переменную (класс)\n",
    "    test_size=0.15  # размер тестовой выборки 15 %\n",
    ")\n",
    "\n",
    "X_train.shape, X_test.shape, y_train.shape, y_test.shape\n",
    "X_train.head\n",
    "y_train.head\n",
    "\n",
    "# Обучим метод k-ближайших соседей\n",
    "model = KNeighborsClassifier(n_neighbors=10) # Количество ближайших соседей = 10\n",
    "model.fit(X_train, y_train)\n",
    "\n",
    "# Получим предсказания модели\n",
    "y_pred = model.predict(X_test)\n",
    "y_pred\n",
    "\n",
    "# Покажем на графике, что отражает полученное число.\n",
    "# Красным цветом, обозначены точки, для которых классификация сработала неправильно\n",
    "plt.figure(figsize=(10, 7))\n",
    "sns.scatterplot(x='petal_width', y='petal_length', data=iris, hue='species', s=70)\n",
    "plt.xlabel('Длина лепестка, см')\n",
    "plt.ylabel('ирина лепестка, см')\n",
    "plt.legend(loc=2)\n",
    "plt.grid()\n",
    "\n",
    "# Перебираем все объекты из теста\n",
    "for i in range(len(y_test)):\n",
    "    # Если предсказание неправильное\n",
    "    if np.array(y_test)[i] != y_pred[i]:\n",
    "        # То подсвечиваем точку красным\n",
    "        plt.scatter(X_test.iloc[i, 3], X_test.iloc[i, 2], color='red', s=150)\n",
    "\n",
    "# Качество модели (доля правильно классифицированных точек)\n",
    "from sklearn.metrics import accuracy_score\n",
    "\n",
    "print(f\"accuracy: {accuracy_score(y_test, y_pred) : .3}\")"
   ]
  },
  {
   "cell_type": "markdown",
   "id": "866ae46e",
   "metadata": {
    "pycharm": {
     "name": "#%% md\n"
    }
   },
   "source": [
    "#### 3.3.2 Задание\n",
    "Определите набор признаков человека, по аналогии из РТ 1, – например,\n",
    "цвет глаз и конвертируйте его в матрицу признаков."
   ]
  },
  {
   "cell_type": "code",
   "execution_count": null,
   "id": "6a2c6fe0",
   "metadata": {
    "pycharm": {
     "name": "#%%\n"
    }
   },
   "outputs": [],
   "source": []
  },
  {
   "cell_type": "code",
   "execution_count": null,
   "id": "69685b28",
   "metadata": {
    "pycharm": {
     "name": "#%%\n"
    }
   },
   "outputs": [],
   "source": []
  },
  {
   "cell_type": "code",
   "execution_count": 2,
   "id": "7a80085c",
   "metadata": {
    "pycharm": {
     "name": "#%%\n"
    }
   },
   "outputs": [
    {
     "name": "stdout",
     "output_type": "stream",
     "text": [
      "[[0.  0.4 0.  0.6]\n",
      " [0.2 0.  0.3 0.5]\n",
      " [0.8 0.  0.  0.2]\n",
      " [0.  0.  0.5 0.5]]\n"
     ]
    }
   ],
   "source": [
    "from sklearn.feature_extraction import DictVectorizer\n",
    "\n",
    "data_dict = [\n",
    "    {\"Зелёный\": 0.4, \"Серый\": 0.6},\n",
    "    {'Карий': 0.3, 'Голубой': 0.2, \"Серый\": 0.5},\n",
    "    {\"Голубой\": 0.8, \"Серый\": 0.2},\n",
    "    {\"Карий\": 0.5, \"Серый\": 0.5}\n",
    "]\n",
    "dictvectorizer = DictVectorizer(sparse=False)\n",
    "features = dictvectorizer.fit_transform(data_dict)\n",
    "print(features)\n"
   ]
  },
  {
   "cell_type": "code",
   "execution_count": null,
   "id": "c5bfce65",
   "metadata": {
    "pycharm": {
     "name": "#%%\n"
    }
   },
   "outputs": [],
   "source": []
  }
 ],
 "metadata": {
  "kernelspec": {
   "display_name": "Python 3 (ipykernel)",
   "language": "python",
   "name": "python3"
  },
  "language_info": {
   "codemirror_mode": {
    "name": "ipython",
    "version": 3
   },
   "file_extension": ".py",
   "mimetype": "text/x-python",
   "name": "python",
   "nbconvert_exporter": "python",
   "pygments_lexer": "ipython3",
   "version": "3.11.1"
  }
 },
 "nbformat": 4,
 "nbformat_minor": 5
}