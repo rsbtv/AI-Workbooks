{
 "nbformat": 4,
 "nbformat_minor": 0,
 "metadata": {
  "colab": {
   "provenance": []
  },
  "kernelspec": {
   "name": "python3",
   "display_name": "Python 3"
  },
  "language_info": {
   "name": "python"
  }
 },
 "cells": [
  {
   "cell_type": "markdown",
   "source": [
    "**1.1. Линейные регрессионные модели**\n",
    "\n",
    "**Линейная регрессия**\n",
    "\n",
    "**Линейная регрессия (Linear regression)** – модель зависимости переменной\n",
    "x от одной или нескольких других переменных (факторов, регрессоров, независимых переменных) с линейной функцией зависимости. Линейная\n",
    "регрессия относится к задаче определения «линии наилучшего соответствия» через набор точек данных и стала простым предшественником нелинейных\n",
    "методов, которые используют для обучения нейронных сетей.\n",
    "\n",
    "Цель линейной регрессии — поиск линии, которая наилучшим образом соответствует этим точкам. Напомним, что общее уравнение для прямой есть\n",
    "𝑓 (𝑥) = 𝑏 + 𝑚 ⋅ 𝑥 +, где 𝑚 – наклон линии, а 𝑏 – его сдвиг.\n",
    "\n",
    "**Функция потерь — метод наименьших квадратов**\n",
    "\n",
    "**Функция потерь** – это мера количества ошибок, которые наша линейная регрессия делает на наборе данных. Хотя есть разные функции потерь, все они\n",
    "вычисляют расстояние между предсказанным значением 𝑦(х) и его фактическим значением.\n",
    "\n",
    "Одна очень распространенная функция потерь называется средней квадратичной ошибкой MSE. Чтобы вычислить MSE, мы просто берем все значения ошибок, считаем их квадраты длин и усредняем.\n",
    "\n",
    "**Задача экраполяции**\n",
    "\n",
    "Допустим у нас есть много экспериментальных точек. Необходимо через них провести кривую, которая как можно ближе проходила к этим точкам. При этом необходимо минимизировать среднюю квадратичную ошибку (MSE).\n",
    "\n",
    "Для решения данной задачи в Python есть множество библиотек. Самыми распостраненными выступают:\n",
    "\n",
    "*   **numpy - numpy.linalg.lstsq**\n",
    "*   **scipy - scipy.linalg** (содержит все функции из numpy.linalg плюс часть новых функций, которых нет в numpy.linalg).\n",
    "\n",
    "---\n",
    "\n",
    "\n"
   ],
   "metadata": {
    "id": "fhNwGxRKoIxP",
    "pycharm": {
     "name": "#%% md\n"
    }
   }
  },
  {
   "cell_type": "markdown",
   "source": [
    "**1.1.1 Пример.**\n",
    "\n",
    "**Задача:** Проведем прямую 𝑦 = 𝑚𝑥 + 𝑏 через экспериментальные точки.\n",
    "\n",
    "**Решение:**\n"
   ],
   "metadata": {
    "id": "74QHuaD6qbuL",
    "pycharm": {
     "name": "#%% md\n"
    }
   }
  },
  {
   "cell_type": "code",
   "source": [
    "import numpy as np\n",
    "import matplotlib.pyplot as plt\n",
    "\n",
    "x = np.array([0, 1, 2, 3])\n",
    "y = np.array([-1, 0.2, 0.9, 2.1])\n",
    "\n",
    "A = np.vstack([x, np.ones(len(x))]).T\n",
    "print(A)\n",
    "\n",
    "m, c = np.linalg.lstsq(A, y, rcond=None)[0]\n",
    "print(m, c)\n",
    "\n",
    "plt.plot(x, y, 'o', label='Исходные данные', markersize=10)\n",
    "plt.plot(x, m * x + c, 'r', label='Линейная экстраполяция')\n",
    "plt.legend()\n",
    "plt.show()\n",
    "\n",
    "# Ответ: "
   ],
   "metadata": {
    "colab": {
     "base_uri": "https://localhost:8080/",
     "height": 352
    },
    "id": "-rJsIbWMqp8R",
    "outputId": "629d54b4-62bf-49b1-cbe4-f1811769232b",
    "pycharm": {
     "name": "#%%\n"
    }
   },
   "execution_count": null,
   "outputs": [
    {
     "output_type": "stream",
     "name": "stdout",
     "text": [
      "[[0. 1.]\n",
      " [1. 1.]\n",
      " [2. 1.]\n",
      " [3. 1.]]\n",
      "0.9999999999999999 -0.9499999999999997\n"
     ]
    },
    {
     "output_type": "display_data",
     "data": {
      "text/plain": [
       "<Figure size 432x288 with 1 Axes>"
      ],
      "image/png": "[encoded data removed]"
     },
     "metadata": {
      "needs_background": "light"
     }
    }
   ]
  },
  {
   "cell_type": "markdown",
   "source": [
    "**1.1.2 Пример.**\n",
    "\n",
    "**Задача:** Пусть 𝑥, 𝑦 – вектора длиной 𝑛 > 3 (точек > 3). Задача заключается в построении эстраполяционного полинома второго порядка (параболы). Таким образом, необходимо найти такие коэффициенты полинома 𝑎, 𝑏, 𝑐 по методу наименьших квадратов. Данные могут быть получены в результате измерений. Покажем пример генерации данных случайным образом и\n",
    "загрузки их из файла.\n",
    "\n",
    "**Решение:**"
   ],
   "metadata": {
    "id": "Gt7Mrc4Bss1w",
    "pycharm": {
     "name": "#%% md\n"
    }
   }
  },
  {
   "cell_type": "code",
   "execution_count": null,
   "metadata": {
    "colab": {
     "base_uri": "https://localhost:8080/",
     "height": 334
    },
    "id": "EuiVpgOFncHq",
    "outputId": "7ba767e2-35b8-4744-af24-b251a9df1afe",
    "pycharm": {
     "name": "#%%\n"
    }
   },
   "outputs": [
    {
     "output_type": "stream",
     "name": "stdout",
     "text": [
      "[-5.36876916 -3.7671554  -2.78509351 -1.93102175 -0.81815626 -0.38788238\n",
      "  0.71313769  1.61072266  2.53790207  4.22295144  5.06022885]\n",
      "[25.14757194 16.31591156  8.84955007  3.90416756  0.60362156 -0.44268529\n",
      "  0.67063462  3.83445821  9.43413371 16.4944151  24.90014344]\n"
     ]
    },
    {
     "output_type": "display_data",
     "data": {
      "text/plain": [
       "<Figure size 432x288 with 1 Axes>"
      ],
      "image/png": "[encoded data removed]"
     },
     "metadata": {
      "needs_background": "light"
     }
    }
   ],
   "source": [
    "from numpy import *\n",
    "from numpy.random import *\n",
    "\n",
    "# генерируем случайные x и y\n",
    "delta = 1.0\n",
    "x = linspace(-5, 5, 11)\n",
    "y = x ** 2 + delta * (rand(11) - 0.5)\n",
    "x += delta * (rand(11) - 0.5)\n",
    "# записываем данные в файл\n",
    "x.tofile('x_data.txt', '\\n')\n",
    "y.tofile('y_data.txt', '\\n')\n",
    "# читаем данные из файлов\n",
    "x = fromfile('x_data.txt', float, sep='\\n')\n",
    "y = fromfile('y_data.txt', float, sep='\\n')\n",
    "print(x)\n",
    "print(y)\n",
    "# Нахождение коэф. ф-и вида ax^2 + bx +c методом наим. квадратов.\n",
    "# задаём вектор m = [x**2, x, E]\n",
    "m = vstack((x ** 2, x, ones(11))).T\n",
    "# находим коэф. при составляющих вектора m\n",
    "s = np.linalg.lstsq(m, y, rcond=None)[0]\n",
    "# на отрезке  [-5, 5]\n",
    "x_prec = linspace(-5, 5, 101)\n",
    "# рисуем точки\n",
    "plt.plot(x, y, 'D')\n",
    "# рисуем кривую вида y = ax^2 + bx +c, подставляя из решения коэф. s[0], s[1], s[2]\n",
    "plt.plot(x_prec, s[0] * x_prec ** 2 + s[1] * x_prec + s[2], '-', lw=2)\n",
    "plt.grid()\n",
    "plt.savefig('парабола.png')\n",
    "\n",
    "# Ответ:"
   ]
  },
  {
   "cell_type": "markdown",
   "source": [
    "**1.1.3 Пример.**\n",
    "\n",
    "**Задача:** По данным предыдущего примера постройте эстраполяционного полинома третьего порядка\n",
    "\n",
    "**Решение:**"
   ],
   "metadata": {
    "id": "a4sJ9Wa8xrfG",
    "pycharm": {
     "name": "#%% md\n"
    }
   }
  },
  {
   "cell_type": "code",
   "source": [
    "# Нахождение коэф. ф-и вида y = ax^3 + bx^2 +cx + d методом наим. квадратов.\n",
    "# задаём вектор m = [x**3, x, E]\n",
    "m = vstack((x ** 3, x ** 2, x, ones(11))).T\n",
    "# находим коэф. при составляющих вектора m\n",
    "s = np.linalg.lstsq(m, y, rcond=None)[0]\n",
    "# на отрезке  [-5, 5]\n",
    "x_prec = linspace(-5, 5, 101)\n",
    "# рисуем точки\n",
    "plt.plot(x, y, 'D')\n",
    "# рисуем кривую вида y = ax^3 + bx^2 +cx + d, подставляя из решения коэф. s[0], s[1], s[2], s[3]\n",
    "plt.plot(x_prec, s[0] * x_prec ** 3 + s[1] * x_prec ** 2 + s[2] * x_prec + s[3], '-', lw=3)\n",
    "plt.grid()\n",
    "plt.savefig('полином 3-й степени.png')\n",
    "\n",
    "# Ответ:"
   ],
   "metadata": {
    "colab": {
     "base_uri": "https://localhost:8080/",
     "height": 265
    },
    "id": "tX09AfJxx4xB",
    "outputId": "e6dd77a5-dae1-467f-d6b9-f306b714fdca",
    "pycharm": {
     "name": "#%%\n"
    }
   },
   "execution_count": null,
   "outputs": [
    {
     "output_type": "display_data",
     "data": {
      "text/plain": [
       "<Figure size 432x288 with 1 Axes>"
      ],
      "image/png": "[encoded data removed]"
     },
     "metadata": {
      "needs_background": "light"
     }
    }
   ]
  },
  {
   "cell_type": "markdown",
   "source": [
    "**1.1.4 Пример.**\n",
    "\n",
    "**Задача:** Необходимо проверить гипотезу, что наша точечно заданная функция  ложится на кривую вида  𝑓(𝑥, 𝑏) = 𝑏0 + 𝑏1𝑒𝑥𝑝(−𝑏2𝑥^2).\n",
    "\n",
    "**Решение:**"
   ],
   "metadata": {
    "id": "uMkftdf7zAs7",
    "pycharm": {
     "name": "#%% md\n"
    }
   }
  },
  {
   "cell_type": "code",
   "source": [
    "from scipy.optimize import curve_fit\n",
    "import matplotlib.pyplot as plt\n",
    "import scipy as sp\n",
    "import numpy as np\n",
    "\n",
    "beta = (0.25, 0.75, 0.5)\n",
    "\n",
    "\n",
    "def f(x, b0, b1, b2):\n",
    "    return b0 + b1 * np.exp(-b2 * x ** 2)\n",
    "\n",
    "\n",
    "xdata = np.linspace(0, 5, 50)\n",
    "\n",
    "y = f(xdata, *beta)\n",
    "ydata = y + 0.05 * np.random.randn(len(xdata))\n",
    "\n",
    "beta_opt, beta_cov = sp.optimize.curve_fit(f, xdata, ydata)\n",
    "print(beta_opt)\n",
    "\n",
    "lin_dev = sum(beta_cov[0])\n",
    "print(lin_dev)\n",
    "\n",
    "residuals = ydata - f(xdata, *beta_opt)\n",
    "fres = sum(residuals ** 2)\n",
    "print(fres)\n",
    "\n",
    "fig, ax = plt.subplots()\n",
    "ax.scatter(xdata, ydata)\n",
    "ax.plot(xdata, y, 'r', lw=2)\n",
    "ax.plot(xdata, f(xdata, *beta_opt), 'b', lw=2)\n",
    "ax.set_xlim(0, 5)\n",
    "ax.set_xlabel(r\"$x$\", fontsize=18)\n",
    "ax.set_ylabel(r\"$f(x, \\beta)$\", fontsize=18)\n",
    "plt.show()\n",
    "print(xdata)\n",
    "print(ydata)\n",
    "\n",
    "# Ответ:\n"
   ],
   "metadata": {
    "colab": {
     "base_uri": "https://localhost:8080/",
     "height": 640
    },
    "id": "0BO-2XP8zfJ6",
    "outputId": "9325853b-ae86-425c-f2ab-a11527b16edc",
    "pycharm": {
     "name": "#%%\n"
    }
   },
   "execution_count": null,
   "outputs": [
    {
     "output_type": "stream",
     "name": "stdout",
     "text": [
      "[0.23868569 0.7351514  0.46209489]\n",
      "0.00026915457488301876\n",
      "0.13987076236137758\n"
     ]
    },
    {
     "output_type": "display_data",
     "data": {
      "text/plain": [
       "<Figure size 432x288 with 1 Axes>"
      ],
      "image/png": "[encoded data removed]"
     },
     "metadata": {
      "needs_background": "light"
     }
    },
    {
     "output_type": "stream",
     "name": "stdout",
     "text": [
      "[0.         0.10204082 0.20408163 0.30612245 0.40816327 0.51020408\n",
      " 0.6122449  0.71428571 0.81632653 0.91836735 1.02040816 1.12244898\n",
      " 1.2244898  1.32653061 1.42857143 1.53061224 1.63265306 1.73469388\n",
      " 1.83673469 1.93877551 2.04081633 2.14285714 2.24489796 2.34693878\n",
      " 2.44897959 2.55102041 2.65306122 2.75510204 2.85714286 2.95918367\n",
      " 3.06122449 3.16326531 3.26530612 3.36734694 3.46938776 3.57142857\n",
      " 3.67346939 3.7755102  3.87755102 3.97959184 4.08163265 4.18367347\n",
      " 4.28571429 4.3877551  4.48979592 4.59183673 4.69387755 4.79591837\n",
      " 4.89795918 5.        ]\n",
      "[1.04018218 0.91662122 1.00988696 0.95349632 0.98264012 0.84855752\n",
      " 0.81896397 0.78789198 0.71694597 0.77773256 0.65083017 0.66033836\n",
      " 0.5236707  0.61128634 0.57874128 0.47566363 0.40751454 0.45075028\n",
      " 0.40794655 0.35301204 0.32593215 0.36679394 0.35092383 0.33489439\n",
      " 0.28587081 0.37158618 0.2335026  0.17130752 0.21376209 0.24576141\n",
      " 0.34729202 0.3480608  0.18822355 0.25224907 0.16501555 0.29071953\n",
      " 0.23335678 0.13866154 0.18828484 0.29479259 0.25573611 0.2776823\n",
      " 0.2682278  0.17271636 0.22677577 0.29916621 0.15840016 0.16931023\n",
      " 0.24775245 0.29893962]\n"
     ]
    }
   ]
  },
  {
   "cell_type": "markdown",
   "source": [
    "**1.1.5. Пример.**\n",
    "\n",
    "**Задача:** Необходимо проверить гипотезу, что наши точечно заданная функция ложится\n",
    "на кривые вида:\n",
    "\n",
    "1) 𝑓(𝑥, 𝑏) = 𝑏0 + 𝑏1𝑥\n",
    "\n",
    "2) 𝑓(𝑥, 𝑏) = 𝑏0 + 𝑏1𝑥 + 𝑏2𝑥^2\n",
    "\n",
    "3) 𝑓(𝑥, 𝑏) = 𝑏0 + 𝑏1𝑙𝑛(𝑥)\n",
    "\n",
    "4) 𝑓(𝑥, 𝑏) = 𝑏0 𝑥^(𝑏1)\n",
    "\n",
    "**Решение:**\n"
   ],
   "metadata": {
    "id": "EVIpGXlbUM1v",
    "pycharm": {
     "name": "#%% md\n"
    }
   }
  },
  {
   "cell_type": "code",
   "source": [
    "from scipy.optimize import curve_fit\n",
    "import matplotlib.pyplot as plt\n",
    "import scipy as sp\n",
    "import numpy as np\n",
    "\n",
    "# 1\n",
    "beta = (0.25, 0.75)\n",
    "\n",
    "\n",
    "def f(x, b0, b1):\n",
    "    return b0 + b1 * x\n",
    "\n",
    "\n",
    "xdata = np.linspace(0, 5, 50)\n",
    "\n",
    "y = f(xdata, *beta)\n",
    "ydata = y + 0.05 * np.random.randn(len(xdata))\n",
    "\n",
    "beta_opt, beta_cov = sp.optimize.curve_fit(f, xdata, ydata)\n",
    "print(beta_opt)\n",
    "\n",
    "lin_dev = sum(beta_cov[0])\n",
    "print(lin_dev)\n",
    "\n",
    "residuals = ydata - f(xdata, *beta_opt)\n",
    "fres = sum(residuals ** 2)\n",
    "print(fres)\n",
    "\n",
    "fig, ax = plt.subplots()\n",
    "ax.scatter(xdata, ydata)\n",
    "ax.plot(xdata, y, 'r', lw=2)\n",
    "ax.plot(xdata, f(xdata, *beta_opt), 'b', lw=2)\n",
    "ax.set_xlim(0, 5)\n",
    "ax.set_xlabel(r\"$x$\", fontsize=18)\n",
    "ax.set_ylabel(r\"$f(x, \\beta)$\", fontsize=18)\n",
    "plt.show()\n",
    "\n",
    "# 2\n",
    "beta = (0.25, 0.75, 0.5)\n",
    "\n",
    "\n",
    "def f(x, b0, b1, b2):\n",
    "    return b0 + b1 * x + b2 * x ** 2\n",
    "\n",
    "\n",
    "xdata = np.linspace(0, 5, 50)\n",
    "\n",
    "y = f(xdata, *beta)\n",
    "ydata = y + 0.05 * np.random.randn(len(xdata))\n",
    "\n",
    "beta_opt, beta_cov = sp.optimize.curve_fit(f, xdata, ydata)\n",
    "print(beta_opt)\n",
    "\n",
    "lin_dev = sum(beta_cov[0])\n",
    "print(lin_dev)\n",
    "\n",
    "residuals = ydata - f(xdata, *beta_opt)\n",
    "fres = sum(residuals ** 2)\n",
    "print(fres)\n",
    "\n",
    "fig, ax = plt.subplots()\n",
    "ax.scatter(xdata, ydata)\n",
    "ax.plot(xdata, y, 'r', lw=2)\n",
    "ax.plot(xdata, f(xdata, *beta_opt), 'b', lw=2)\n",
    "ax.set_xlim(0, 5)\n",
    "ax.set_xlabel(r\"$x$\", fontsize=18)\n",
    "ax.set_ylabel(r\"$f(x, \\beta)$\", fontsize=18)\n",
    "plt.show()\n",
    "\n",
    "# 3\n",
    "beta = (1, 2)\n",
    "\n",
    "\n",
    "def f(x, b0, b1):\n",
    "    return b0 + b1 * np.log(x)\n",
    "\n",
    "\n",
    "xdata = np.linspace(1, 5, 50)\n",
    "\n",
    "y = f(xdata, *beta)\n",
    "ydata = y + 0.05 * np.random.randn(len(xdata))\n",
    "\n",
    "beta_opt, beta_cov = sp.optimize.curve_fit(f, xdata, ydata)\n",
    "print(beta_opt)\n",
    "\n",
    "lin_dev = sum(beta_cov[0])\n",
    "print(lin_dev)\n",
    "\n",
    "residuals = ydata - f(xdata, *beta_opt)\n",
    "fres = sum(residuals ** 2)\n",
    "print(fres)\n",
    "\n",
    "fig, ax = plt.subplots()\n",
    "ax.scatter(xdata, ydata)\n",
    "ax.plot(xdata, y, 'r', lw=2)\n",
    "ax.plot(xdata, f(xdata, *beta_opt), 'b', lw=2)\n",
    "ax.set_xlim(0, 5)\n",
    "ax.set_xlabel(r\"$x$\", fontsize=18)\n",
    "ax.set_ylabel(r\"$f(x, \\beta)$\", fontsize=18)\n",
    "plt.show()\n",
    "\n",
    "# 4\n",
    "beta = (1, 2)\n",
    "\n",
    "\n",
    "def f(x, b0, b1):\n",
    "    return b0 * x ** b1\n",
    "\n",
    "\n",
    "xdata = np.linspace(1, 5, 50)\n",
    "\n",
    "y = f(xdata, *beta)\n",
    "ydata = y + 0.05 * np.random.randn(len(xdata))\n",
    "\n",
    "beta_opt, beta_cov = sp.optimize.curve_fit(f, xdata, ydata)\n",
    "print(beta_opt)\n",
    "\n",
    "lin_dev = sum(beta_cov[0])\n",
    "print(lin_dev)\n",
    "\n",
    "residuals = ydata - f(xdata, *beta_opt)\n",
    "fres = sum(residuals ** 2)\n",
    "print(fres)\n",
    "\n",
    "fig, ax = plt.subplots()\n",
    "ax.scatter(xdata, ydata)\n",
    "ax.plot(xdata, y, 'r', lw=2)\n",
    "ax.plot(xdata, f(xdata, *beta_opt), 'b', lw=2)\n",
    "ax.set_xlim(0, 5)\n",
    "ax.set_xlabel(r\"$x$\", fontsize=18)\n",
    "ax.set_ylabel(r\"$f(x, \\beta)$\", fontsize=18)\n",
    "plt.show()\n",
    "\n",
    "# Ответ:"
   ],
   "metadata": {
    "colab": {
     "base_uri": "https://localhost:8080/",
     "height": 1000
    },
    "id": "bdGZyqxxUu_M",
    "outputId": "b4825fb7-487a-4b5b-d36f-c93a260fb7e0",
    "pycharm": {
     "name": "#%%\n"
    }
   },
   "execution_count": null,
   "outputs": [
    {
     "output_type": "stream",
     "name": "stdout",
     "text": [
      "[0.2717308  0.74241331]\n",
      "0.0001200832490073034\n",
      "0.10559044100418266\n"
     ]
    },
    {
     "output_type": "display_data",
     "data": {
      "text/plain": [
       "<Figure size 432x288 with 1 Axes>"
      ],
      "image/png": "[encoded data removed]"
     },
     "metadata": {
      "needs_background": "light"
     }
    },
    {
     "output_type": "stream",
     "name": "stdout",
     "text": [
      "[0.2314703  0.78614927 0.49260356]\n",
      "0.00011673291588409836\n",
      "0.09734303177814244\n"
     ]
    },
    {
     "output_type": "display_data",
     "data": {
      "text/plain": [
       "<Figure size 432x288 with 1 Axes>"
      ],
      "image/png": "[encoded data removed]"
     },
     "metadata": {
      "needs_background": "light"
     }
    },
    {
     "output_type": "stream",
     "name": "stdout",
     "text": [
      "[1.02738652 1.98893282]\n",
      "5.468387642886154e-05\n",
      "0.12645326123420575\n"
     ]
    },
    {
     "output_type": "display_data",
     "data": {
      "text/plain": [
       "<Figure size 432x288 with 1 Axes>"
      ],
      "image/png": "[encoded data removed]"
     },
     "metadata": {
      "needs_background": "light"
     }
    },
    {
     "output_type": "stream",
     "name": "stdout",
     "text": [
      "[0.99972606 1.99978777]\n",
      "5.6446501111706216e-06\n",
      "0.13433021237709256\n"
     ]
    },
    {
     "output_type": "display_data",
     "data": {
      "text/plain": [
       "<Figure size 432x288 with 1 Axes>"
      ],
      "image/png": "[encoded data removed]"
     },
     "metadata": {
      "needs_background": "light"
     }
    }
   ]
  },
  {
   "cell_type": "markdown",
   "source": [
    "**Задание:** Подставьте собственные данные и поэкспериментируйте с представленными функциями. Проанализируйте динамику изменения данных.\n",
    "\n",
    "**Решение:**"
   ],
   "metadata": {
    "id": "wuwF4qViXQo0",
    "pycharm": {
     "name": "#%% md\n"
    }
   }
  },
  {
   "cell_type": "code",
   "source": [
    "from scipy.optimize import curve_fit\n",
    "import matplotlib.pyplot as plt\n",
    "import scipy as sp\n",
    "import numpy as np\n",
    "\n",
    "# 1\n",
    "beta = (0.25, 0.75)\n",
    "\n",
    "\n",
    "def f(x, b0, b1):\n",
    "    return b0 + b1 * x\n",
    "\n",
    "\n",
    "xdata = np.linspace(0, 10, 15)\n",
    "\n",
    "y = f(xdata, *beta)\n",
    "ydata = y + 0.05 * np.random.randn(len(xdata))\n",
    "\n",
    "beta_opt, beta_cov = sp.optimize.curve_fit(f, xdata, ydata)\n",
    "print(beta_opt)\n",
    "\n",
    "lin_dev = sum(beta_cov[0])\n",
    "print(lin_dev)\n",
    "\n",
    "residuals = ydata - f(xdata, *beta_opt)\n",
    "fres = sum(residuals ** 2)\n",
    "print(fres)\n",
    "\n",
    "fig, ax = plt.subplots()\n",
    "ax.scatter(xdata, ydata)\n",
    "ax.plot(xdata, y, 'r', lw=2)\n",
    "ax.plot(xdata, f(xdata, *beta_opt), 'b', lw=2)\n",
    "ax.set_xlim(0, 5)\n",
    "ax.set_xlabel(r\"$x$\", fontsize=18)\n",
    "ax.set_ylabel(r\"$f(x, \\beta)$\", fontsize=18)\n",
    "plt.show()\n",
    "\n",
    "# 2\n",
    "beta = (0.25, 0.75, 0.5)\n",
    "\n",
    "\n",
    "def f(x, b0, b1, b2):\n",
    "    return b0 + b1 * x + b2 * x ** 2\n",
    "\n",
    "\n",
    "xdata = np.linspace(1, 15, 25)\n",
    "\n",
    "y = f(xdata, *beta)\n",
    "ydata = y + 0.05 * np.random.randn(len(xdata))\n",
    "\n",
    "beta_opt, beta_cov = sp.optimize.curve_fit(f, xdata, ydata)\n",
    "print(beta_opt)\n",
    "\n",
    "lin_dev = sum(beta_cov[0])\n",
    "print(lin_dev)\n",
    "\n",
    "residuals = ydata - f(xdata, *beta_opt)\n",
    "fres = sum(residuals ** 2)\n",
    "print(fres)\n",
    "\n",
    "fig, ax = plt.subplots()\n",
    "ax.scatter(xdata, ydata)\n",
    "ax.plot(xdata, y, 'r', lw=2)\n",
    "ax.plot(xdata, f(xdata, *beta_opt), 'b', lw=2)\n",
    "ax.set_xlim(0, 5)\n",
    "ax.set_xlabel(r\"$x$\", fontsize=18)\n",
    "ax.set_ylabel(r\"$f(x, \\beta)$\", fontsize=18)\n",
    "plt.show()\n",
    "\n",
    "# 3\n",
    "beta = (1, 2)\n",
    "\n",
    "\n",
    "def f(x, b0, b1):\n",
    "    return b0 + b1 * np.log(x)\n",
    "\n",
    "\n",
    "xdata = np.linspace(1, 15, 30)\n",
    "\n",
    "y = f(xdata, *beta)\n",
    "ydata = y + 0.05 * np.random.randn(len(xdata))\n",
    "\n",
    "beta_opt, beta_cov = sp.optimize.curve_fit(f, xdata, ydata)\n",
    "print(beta_opt)\n",
    "\n",
    "lin_dev = sum(beta_cov[0])\n",
    "print(lin_dev)\n",
    "\n",
    "residuals = ydata - f(xdata, *beta_opt)\n",
    "fres = sum(residuals ** 2)\n",
    "print(fres)\n",
    "\n",
    "fig, ax = plt.subplots()\n",
    "ax.scatter(xdata, ydata)\n",
    "ax.plot(xdata, y, 'r', lw=2)\n",
    "ax.plot(xdata, f(xdata, *beta_opt), 'b', lw=2)\n",
    "ax.set_xlim(0, 5)\n",
    "ax.set_xlabel(r\"$x$\", fontsize=18)\n",
    "ax.set_ylabel(r\"$f(x, \\beta)$\", fontsize=18)\n",
    "plt.show()\n",
    "\n",
    "# 4\n",
    "beta = (1, 2)\n",
    "\n",
    "\n",
    "def f(x, b0, b1):\n",
    "    return b0 * x ** b1\n",
    "\n",
    "\n",
    "xdata = np.linspace(1, 10, 25)\n",
    "\n",
    "y = f(xdata, *beta)\n",
    "ydata = y + 0.05 * np.random.randn(len(xdata))\n",
    "\n",
    "beta_opt, beta_cov = sp.optimize.curve_fit(f, xdata, ydata)\n",
    "print(beta_opt)\n",
    "\n",
    "lin_dev = sum(beta_cov[0])\n",
    "print(lin_dev)\n",
    "\n",
    "residuals = ydata - f(xdata, *beta_opt)\n",
    "fres = sum(residuals ** 2)\n",
    "print(fres)\n",
    "\n",
    "fig, ax = plt.subplots()\n",
    "ax.scatter(xdata, ydata)\n",
    "ax.plot(xdata, y, 'r', lw=2)\n",
    "ax.plot(xdata, f(xdata, *beta_opt), 'b', lw=2)\n",
    "ax.set_xlim(0, 5)\n",
    "ax.set_xlabel(r\"$x$\", fontsize=18)\n",
    "ax.set_ylabel(r\"$f(x, \\beta)$\", fontsize=18)\n",
    "plt.show()\n",
    "\n",
    "# Ответ:"
   ],
   "metadata": {
    "colab": {
     "base_uri": "https://localhost:8080/",
     "height": 1000
    },
    "id": "7F5h8H7HXZER",
    "outputId": "60b40ca1-37f3-41fd-fcd8-13253c051fd5",
    "pycharm": {
     "name": "#%%\n"
    }
   },
   "execution_count": null,
   "outputs": [
    {
     "output_type": "stream",
     "name": "stdout",
     "text": [
      "[0.22280826 0.75212042]\n",
      "0.0004409677183817846\n",
      "0.027738290193378458\n"
     ]
    },
    {
     "output_type": "display_data",
     "data": {
      "text/plain": [
       "<Figure size 432x288 with 1 Axes>"
      ],
      "image/png": "[encoded data removed]"
     },
     "metadata": {
      "needs_background": "light"
     }
    },
    {
     "output_type": "stream",
     "name": "stdout",
     "text": [
      "[0.29945558 0.74040784 0.50037458]\n",
      "0.0014432430906594147\n",
      "0.07953514222606585\n"
     ]
    },
    {
     "output_type": "display_data",
     "data": {
      "text/plain": [
       "<Figure size 432x288 with 1 Axes>"
      ],
      "image/png": "[encoded data removed]"
     },
     "metadata": {
      "needs_background": "light"
     }
    },
    {
     "output_type": "stream",
     "name": "stdout",
     "text": [
      "[1.02082824 1.99222759]\n",
      "0.0004275677269645066\n",
      "0.08314651531339924\n"
     ]
    },
    {
     "output_type": "display_data",
     "data": {
      "text/plain": [
       "<Figure size 432x288 with 1 Axes>"
      ],
      "image/png": "[encoded data removed]"
     },
     "metadata": {
      "needs_background": "light"
     }
    },
    {
     "output_type": "stream",
     "name": "stdout",
     "text": [
      "[1.0023626  1.99871408]\n",
      "2.312914784217141e-06\n",
      "0.05098334051745266\n"
     ]
    },
    {
     "output_type": "display_data",
     "data": {
      "text/plain": [
       "<Figure size 432x288 with 1 Axes>"
      ],
      "image/png": "[encoded data removed]"
     },
     "metadata": {
      "needs_background": "light"
     }
    }
   ]
  },
  {
   "cell_type": "markdown",
   "source": [
    "**1.2. Задачи регрессии.**\n",
    "\n",
    "Линейная регрессия - это широко используемый метод статистического\n",
    "анализа, который использует регрессионный анализ в математической статистике для определения количественной взаимосвязи между двумя или более переменными. Если регрессионный анализ включает две или более независимых переменных, а связь между зависимой и независимой  переменными является линейной, тогда имеем дело с множественной линейной\n",
    "регрессией.\n",
    "\n",
    "В этом разделе мы увидим, как библиотеку Scikit-Learn в Python для машинного\n",
    "обучения можно использовать для реализации функций регрессии. Мы начнем\n",
    "с простой линейной регрессии с участием двух переменных, а затем перейдем к\n",
    "линейной регрессии с участием нескольких переменных.\n",
    "\n",
    "\n",
    "---\n",
    "\n"
   ],
   "metadata": {
    "id": "gl8g0T_PY3DY",
    "pycharm": {
     "name": "#%% md\n"
    }
   }
  },
  {
   "cell_type": "markdown",
   "source": [
    "**1.2.1. Пример.**\n",
    "\n",
    "**Задача:** Построим простую линейную регрессию в Python с использованием\n",
    "библиотеки scikit-learn\n",
    "\n",
    "**Решение:**\n"
   ],
   "metadata": {
    "id": "xwu9vEj0ZM5Q",
    "pycharm": {
     "name": "#%% md\n"
    }
   }
  },
  {
   "cell_type": "code",
   "source": [
    "import pandas as pd\n",
    "import numpy as np\n",
    "import matplotlib.pyplot as plt\n",
    "from pandas import DataFrame, Series\n",
    "from sklearn.model_selection import train_test_split\n",
    "from sklearn.linear_model import LinearRegression\n",
    "\n",
    "my_dict = {\"Учебное время\": [0.50, 0.75, 1.00, 1.25, 1.50, 1.75, 1.75, 2.00, 2.25, 2.50, 2.75,\n",
    "                             3.00, 3.25, 3.50, 4.00, 4.25, 4.50, 4.75, 5.00, 5.50],\n",
    "           \"Оценка\": [10, 22, 13, 43, 20, 22, 33, 50, 62, 48, 55, 75, 62, 73, 81, 76, 64, 82, 90, 93]}\n",
    "\n",
    "dataset = pd.DataFrame(my_dict)\n",
    "print(dataset.head())\n",
    "print(dataset.shape)\n",
    "print(dataset.describe())\n",
    "plt.scatter(dataset[\"Учебное время\"], dataset['Оценка'], color='r', label=\"Данные экзамена\")\n",
    "plt.xlabel(\"Часы\")\n",
    "plt.ylabel(\"Оценка\")\n",
    "plt.show()\n",
    "\n",
    "x = dataset.iloc[:, :-1].values\n",
    "y = dataset.iloc[:, 1].values\n",
    "print(x)\n",
    "print(y)\n",
    "\n",
    "x_train, x_test, y_train, y_test = train_test_split(x, y, test_size=0.2, random_state=0)\n",
    "regressor = LinearRegression()\n",
    "regressor.fit(x_train, y_train)\n",
    "print(regressor.intercept_)\n",
    "print(regressor.coef_)\n",
    "y_pred = regressor.predict(x_test)\n",
    "df = pd.DataFrame({'Actual': y_test, 'Predicted': y_pred})\n",
    "print(df)\n",
    "df.plot(kind='bar')\n",
    "plt.grid(which='major', linestyle='-', linewidth='0.5', color='gray')\n",
    "plt.grid(which='minor', linestyle=':', linewidth='0.5', color='red')\n",
    "plt.show()\n",
    "plt.scatter(x_test, y_test, color='gray')\n",
    "plt.plot(x_test, y_pred, color='red', linewidth=2)\n",
    "plt.show()\n",
    "\n",
    "# Ответ:"
   ],
   "metadata": {
    "colab": {
     "base_uri": "https://localhost:8080/",
     "height": 1000
    },
    "id": "NhuwEdHEZdI4",
    "outputId": "b564c56f-42c4-4729-9600-e4b3a6f6c4f4",
    "pycharm": {
     "name": "#%%\n"
    }
   },
   "execution_count": null,
   "outputs": [
    {
     "output_type": "stream",
     "name": "stdout",
     "text": [
      "   Учебное время  Оценка\n",
      "0           0.50      10\n",
      "1           0.75      22\n",
      "2           1.00      13\n",
      "3           1.25      43\n",
      "4           1.50      20\n",
      "(20, 2)\n",
      "       Учебное время     Оценка\n",
      "count      20.000000  20.000000\n",
      "mean        2.787500  53.700000\n",
      "std         1.507165  26.435821\n",
      "min         0.500000  10.000000\n",
      "25%         1.687500  30.250000\n",
      "50%         2.625000  58.500000\n",
      "75%         4.062500  75.250000\n",
      "max         5.500000  93.000000\n"
     ]
    },
    {
     "output_type": "display_data",
     "data": {
      "text/plain": [
       "<Figure size 432x288 with 1 Axes>"
      ],
      "image/png": "[encoded data removed]"
     },
     "metadata": {
      "needs_background": "light"
     }
    },
    {
     "output_type": "stream",
     "name": "stdout",
     "text": [
      "[[0.5 ]\n",
      " [0.75]\n",
      " [1.  ]\n",
      " [1.25]\n",
      " [1.5 ]\n",
      " [1.75]\n",
      " [1.75]\n",
      " [2.  ]\n",
      " [2.25]\n",
      " [2.5 ]\n",
      " [2.75]\n",
      " [3.  ]\n",
      " [3.25]\n",
      " [3.5 ]\n",
      " [4.  ]\n",
      " [4.25]\n",
      " [4.5 ]\n",
      " [4.75]\n",
      " [5.  ]\n",
      " [5.5 ]]\n",
      "[10 22 13 43 20 22 33 50 62 48 55 75 62 73 81 76 64 82 90 93]\n",
      "5.475400029908791\n",
      "[17.02706744]\n",
      "   Actual  Predicted\n",
      "0      90  90.610737\n",
      "1      22  18.245701\n",
      "2      93  99.124271\n",
      "3      62  43.786302\n"
     ]
    },
    {
     "output_type": "display_data",
     "data": {
      "text/plain": [
       "<Figure size 432x288 with 1 Axes>"
      ],
      "image/png": "[encoded data removed]"
     },
     "metadata": {
      "needs_background": "light"
     }
    },
    {
     "output_type": "display_data",
     "data": {
      "text/plain": [
       "<Figure size 432x288 with 1 Axes>"
      ],
      "image/png": "[encoded data removed]"
     },
     "metadata": {
      "needs_background": "light"
     }
    }
   ]
  },
  {
   "cell_type": "markdown",
   "source": [
    "**Задание:** Постройте модель линейной регрессии для произвольных данных из двух\n",
    "столбцов. Для примера можно взять точечную зависимость заработной платы от\n",
    "опыта работы:\n",
    "(https://raw.githubusercontent.com/AnnaShestova/salary-years-simple-linearregression/master/Salary_Data.csv).\n",
    "Найдите коэффициенты линии регрессии. Постройте прогноз.\n",
    "\n",
    "**Решение:**\n"
   ],
   "metadata": {
    "id": "27fEpvtve3_P",
    "pycharm": {
     "name": "#%% md\n"
    }
   }
  },
  {
   "cell_type": "code",
   "source": [
    "import pandas as pd\n",
    "import matplotlib.pyplot as plt\n",
    "from sklearn.model_selection import train_test_split\n",
    "from sklearn.linear_model import LinearRegression\n",
    "\n",
    "url = \"https://raw.githubusercontent.com/AnnaShestova/salary-years-simple-linear-regression/master/Salary_Data.csv\"\n",
    "dataset = pd.read_csv(url, sep=',')\n",
    "\n",
    "print(dataset.head())\n",
    "print(dataset.shape)\n",
    "print(dataset.describe())\n",
    "\n",
    "plt.scatter(dataset['YearsExperience'],\n",
    "            dataset['Salary'],\n",
    "            color='g',\n",
    "            label=\"Данные:\")\n",
    "\n",
    "plt.xlabel(\"Опыт работы (часов)\")\n",
    "plt.ylabel(\"Зарплата (рублей)\")\n",
    "plt.grid()\n",
    "plt.show()\n",
    "x = dataset.iloc[:, :-1].values\n",
    "y = dataset.iloc[:, 1].values\n",
    "print(x)\n",
    "print(y)\n",
    "x_train, x_test, y_train, y_test =\n",
    "    train_test_split(x, y, test_size=0.2, random_state=0)\n",
    "regressor = LinearRegression()\n",
    "regressor.fit(x_train, y_train)\n",
    "\n",
    "print(regressor.intercept_)\n",
    "print(regressor.coef_)\n",
    "\n",
    "y_pred = regressor.predict(x_test)\n",
    "df = pd.DataFrame({'Actual': y_test, 'Predicted': y_pred})\n",
    "print(df)\n",
    "df.plot(kind='bar')\n",
    "plt.grid(which='major', linestyle='-', linewidth='0.5', color='gray')\n",
    "plt.grid(which='minor', linestyle=':', linewidth='0.5', color='red')\n",
    "plt.show()\n",
    "plt.scatter(x_test, y_test, color='blue')\n",
    "plt.plot(x_test, y_pred,\n",
    "         color='red',\n",
    "         linewidth=1.5,\n",
    "         drawstyle='default')\n",
    "plt.grid()\n",
    "plt.show()\n",
    "\n",
    "# Ответ:"
   ],
   "metadata": {
    "colab": {
     "base_uri": "https://localhost:8080/",
     "height": 1000
    },
    "id": "viq2tMspfIjV",
    "outputId": "eabd1ef8-9d07-4bb9-a036-c7380eca63c4",
    "pycharm": {
     "name": "#%%\n"
    }
   },
   "execution_count": null,
   "outputs": [
    {
     "output_type": "stream",
     "name": "stdout",
     "text": [
      "   YearsExperience   Salary\n",
      "0              1.1  39343.0\n",
      "1              1.3  46205.0\n",
      "2              1.5  37731.0\n",
      "3              2.0  43525.0\n",
      "4              2.2  39891.0\n",
      "(30, 2)\n",
      "       YearsExperience         Salary\n",
      "count        30.000000      30.000000\n",
      "mean          5.313333   76003.000000\n",
      "std           2.837888   27414.429785\n",
      "min           1.100000   37731.000000\n",
      "25%           3.200000   56720.750000\n",
      "50%           4.700000   65237.000000\n",
      "75%           7.700000  100544.750000\n",
      "max          10.500000  122391.000000\n"
     ]
    },
    {
     "output_type": "display_data",
     "data": {
      "text/plain": [
       "<Figure size 432x288 with 1 Axes>"
      ],
      "image/png": "[encoded data removed]"
     },
     "metadata": {
      "needs_background": "light"
     }
    },
    {
     "output_type": "stream",
     "name": "stdout",
     "text": [
      "[[ 1.1]\n",
      " [ 1.3]\n",
      " [ 1.5]\n",
      " [ 2. ]\n",
      " [ 2.2]\n",
      " [ 2.9]\n",
      " [ 3. ]\n",
      " [ 3.2]\n",
      " [ 3.2]\n",
      " [ 3.7]\n",
      " [ 3.9]\n",
      " [ 4. ]\n",
      " [ 4. ]\n",
      " [ 4.1]\n",
      " [ 4.5]\n",
      " [ 4.9]\n",
      " [ 5.1]\n",
      " [ 5.3]\n",
      " [ 5.9]\n",
      " [ 6. ]\n",
      " [ 6.8]\n",
      " [ 7.1]\n",
      " [ 7.9]\n",
      " [ 8.2]\n",
      " [ 8.7]\n",
      " [ 9. ]\n",
      " [ 9.5]\n",
      " [ 9.6]\n",
      " [10.3]\n",
      " [10.5]]\n",
      "[ 39343.  46205.  37731.  43525.  39891.  56642.  60150.  54445.  64445.\n",
      "  57189.  63218.  55794.  56957.  57081.  61111.  67938.  66029.  83088.\n",
      "  81363.  93940.  91738.  98273. 101302. 113812. 109431. 105582. 116969.\n",
      " 112635. 122391. 121872.]\n",
      "26780.09915062818\n",
      "[9312.57512673]\n",
      "     Actual      Predicted\n",
      "0   37731.0   40748.961841\n",
      "1  122391.0  122699.622956\n",
      "2   57081.0   64961.657170\n",
      "3   63218.0   63099.142145\n",
      "4  116969.0  115249.562855\n",
      "5  109431.0  107799.502753\n"
     ]
    },
    {
     "output_type": "display_data",
     "data": {
      "text/plain": [
       "<Figure size 432x288 with 1 Axes>"
      ],
      "image/png": "[encoded data removed]"
     },
     "metadata": {
      "needs_background": "light"
     }
    },
    {
     "output_type": "display_data",
     "data": {
      "text/plain": [
       "<Figure size 432x288 with 1 Axes>"
      ],
      "image/png": "[encoded data removed]"
     },
     "metadata": {
      "needs_background": "light"
     }
    }
   ]
  },
  {
   "cell_type": "markdown",
   "source": [
    "**1.3. Множественная регрессия.**\n",
    "\n",
    "В предыдущем примере мы проиллюстрировали линейную регрессию с двумя переменными. Однако, почти все реальные задачи имеют больше параметров. Линейная регрессия с участием нескольких переменных\n",
    "называется **«множественной линейной регрессией»** или многомерной\n",
    "линейной регрессией **Текст, выделенный полужирным шрифтом**. Шаги для выполнения множественной линейной регрессии аналогичны шагам для простой. Разница заключается в оценке. Вы можете использовать множественную регрессию, чтобы узнать, какой фактор оказывает наибольшее влияние на прогнозируемый результат или как различные переменные связаны друг с другом.\n",
    "\n",
    "\n",
    "---\n",
    "\n"
   ],
   "metadata": {
    "id": "QrhagY34fbiR",
    "pycharm": {
     "name": "#%% md\n"
    }
   }
  },
  {
   "cell_type": "markdown",
   "source": [
    "**1.3.1. Пример.**\n",
    "\n",
    "**Задача:** Для решения задачи множественной регрессии можно задействовать уже известный метод numpy.linalg.lstsq.\n",
    "\n",
    "**Решение:**\n"
   ],
   "metadata": {
    "id": "qm1H0OsZfuaz",
    "pycharm": {
     "name": "#%% md\n"
    }
   }
  },
  {
   "cell_type": "code",
   "source": [
    "import numpy as np\n",
    "\n",
    "y = [1, 2, 3, 4, 3, 4, 5, 3, 5, 5, 4, 5, 4, 5, 4, 5, 6, 0, 6, 3, 1, 3, 1]\n",
    "x = [[0, 2, 4, 1, 5, 4, 5, 9, 9, 9, 3, 7, 8, 8, 6, 6, 5, 5, 5, 6, 6, 5, 5],\n",
    "     [4, 1, 2, 3, 4, 5, 6, 7, 5, 8, 7, 8, 7, 8, 7, 8, 6, 8, 9, 2, 1, 5, 6],\n",
    "     [4, 1, 2, 5, 6, 7, 8, 9, 7, 8, 7, 8, 7, 4, 3, 1, 2, 3, 4, 1, 3, 9, 7]]\n",
    "\n",
    "x = np.transpose(x)  # transpose so input vectors\n",
    "x = np.c_[x, np.ones(x.shape[0])]  # add bias term\n",
    "linreg = np.linalg.lstsq(x, y, rcond=None)[0]\n",
    "\n",
    "print(linreg)\n",
    "\n",
    "# Ответ:"
   ],
   "metadata": {
    "colab": {
     "base_uri": "https://localhost:8080/"
    },
    "id": "MYCd9FJrf4No",
    "outputId": "fed9a276-fe15-4170-ab6e-9fee7b8ce7cd",
    "pycharm": {
     "name": "#%%\n"
    }
   },
   "execution_count": null,
   "outputs": [
    {
     "output_type": "stream",
     "name": "stdout",
     "text": [
      "[ 0.1338682   0.26840334 -0.02874936  1.5122571 ]\n"
     ]
    }
   ]
  },
  {
   "cell_type": "markdown",
   "source": [
    "**1.3.2. Пример.**\n",
    "\n",
    "**Задача:** Для данных из предыдущей задачи построить модель множественной\n",
    "линейной регрессии с использованием средств библиотеки sсikit-learn.\n",
    "\n",
    "**Решение:**"
   ],
   "metadata": {
    "id": "Dm8EmNOxgaKV",
    "pycharm": {
     "name": "#%% md\n"
    }
   }
  },
  {
   "cell_type": "code",
   "source": [
    "import pandas as pd\n",
    "import numpy as np\n",
    "from sklearn.model_selection import train_test_split\n",
    "from sklearn.linear_model import LinearRegression\n",
    "from sklearn import metrics\n",
    "\n",
    "y = [1, 2, 3, 4, 3, 4, 5, 3, 5, 5, 4, 5,\n",
    "     4, 5, 4, 5, 6, 0, 6, 3, 1, 3, 1]\n",
    "x = [[0, 2, 4, 1, 5, 4, 5, 9, 9, 9, 3, 7,\n",
    "      8, 8, 6, 6, 5, 5, 5, 6, 6, 5, 5],\n",
    "     [4, 1, 2, 3, 4, 5, 6, 7, 5, 8, 7, 8,\n",
    "      7, 8, 7, 8, 6, 8, 9, 2, 1, 5, 6],\n",
    "     [4, 1, 2, 5, 6, 7, 8, 9, 7, 8, 7, 8,\n",
    "      7, 4, 3, 1, 2, 3, 4, 1, 3, 9, 7]]\n",
    "\n",
    "new_y = np.array(y)\n",
    "new_y = new_y.transpose()\n",
    "df1 = pd.DataFrame(new_y)\n",
    "new_x = np.array(x)\n",
    "new_x = new_x.transpose()\n",
    "df2 = pd.DataFrame(new_x)\n",
    "df1 = df1.rename(columns={0: 'y'}, inplace=False)\n",
    "df2 = df2.rename(columns={0: 'x1', 1: 'x2', 2: 'x3'}, inplace=False)\n",
    "\n",
    "frames = [df1, df2]\n",
    "dataset = pd.concat([df1, df2], axis=1, join=\"inner\")\n",
    "print(dataset.head())\n",
    "print('')\n",
    "print(dataset.shape)\n",
    "print('')\n",
    "print(dataset.describe())\n",
    "print('')\n",
    "x = dataset[['x1', 'x2', 'x3']]\n",
    "y = dataset['y']\n",
    "x_train, x_test, y_train, y_test =\n",
    "    train_test_split(x, y, test_size=0.2, random_state=0)\n",
    "regressor = LinearRegression()\n",
    "regressor.fit(x_train, y_train)\n",
    "coeff_df = pd.DataFrame(regressor.coef_, x.columns, columns=['Coefficient'])\n",
    "print(coeff_df)\n",
    "print('')\n",
    "y_pred = regressor.predict(x_test)\n",
    "df = pd.DataFrame({'Actual': y_test,\n",
    "                   'Predicted': y_pred})\n",
    "print(df)\n",
    "print()\n",
    "print('Mean Squared Error:', metrics.mean_squared_error(y_test, y_pred))\n",
    "\n",
    "# Ответ:"
   ],
   "metadata": {
    "colab": {
     "base_uri": "https://localhost:8080/"
    },
    "id": "I5wReu5ogjMC",
    "outputId": "85401475-f08c-47e6-9c47-bcc44d311c09",
    "pycharm": {
     "name": "#%%\n"
    }
   },
   "execution_count": null,
   "outputs": [
    {
     "output_type": "stream",
     "name": "stdout",
     "text": [
      "   y  x1  x2  x3\n",
      "0  1   0   4   4\n",
      "1  2   2   1   1\n",
      "2  3   4   2   2\n",
      "3  4   1   3   5\n",
      "4  3   5   4   6\n",
      "\n",
      "(23, 4)\n",
      "\n",
      "               y         x1         x2         x3\n",
      "count  23.000000  23.000000  23.000000  23.000000\n",
      "mean    3.565217   5.347826   5.521739   5.043478\n",
      "std     1.674029   2.404706   2.428422   2.704849\n",
      "min     0.000000   0.000000   1.000000   1.000000\n",
      "25%     3.000000   4.500000   4.000000   3.000000\n",
      "50%     4.000000   5.000000   6.000000   5.000000\n",
      "75%     5.000000   6.500000   7.500000   7.000000\n",
      "max     6.000000   9.000000   9.000000   9.000000\n",
      "\n",
      "    Coefficient\n",
      "x1     0.223219\n",
      "x2     0.136709\n",
      "x3    -0.063757\n",
      "\n",
      "    Actual  Predicted\n",
      "11       5   4.119478\n",
      "10       4   3.153648\n",
      "21       3   3.199155\n",
      "14       4   4.078333\n",
      "20       1   3.258079\n",
      "\n",
      "Mean Squared Error: 1.3272699242343078\n"
     ]
    }
   ]
  },
  {
   "cell_type": "markdown",
   "source": [
    "**Задание.**\n",
    "\n",
    "**Задача:** Постройте модель множественной линейной регрессии для произвольных данных из нескольких столбцов. Для примера можно взять потребления газа (в миллионах галлонов) в 48 штатах США или набор данных о\n",
    "качестве красного вина (1) и (2) соответственно. Найдите коэффициенты\n",
    "множественной регрессии. Постройте прогноз.\n",
    "\n",
    "1. https://raw.githubusercontent.com/likarajo/petrol_consumption/master/data/pe\n",
    "trol_consumption.csv\n",
    "2. https://raw.githubusercontent.com/aniruddhachoudhury/Red-WineQuality/master/winequality-red.csv\n",
    "\n",
    "**Решение:**\n"
   ],
   "metadata": {
    "id": "6f3nOQHxfSce",
    "pycharm": {
     "name": "#%% md\n"
    }
   }
  },
  {
   "cell_type": "code",
   "source": [
    "import pandas as pd\n",
    "import numpy as np\n",
    "from sklearn.model_selection import train_test_split\n",
    "from sklearn.linear_model import LinearRegression\n",
    "from sklearn import metrics\n",
    "\n",
    "url = pd.read_csv('https://raw.githubusercontent.com/aniruddhachoudhury/'\n",
    "                  'Red-Wine-Quality/master/winequality-red.csv')\n",
    "y = [url.quality]\n",
    "x = [url.pH, url.alcohol, url.density]\n",
    "\n",
    "new_y = np.array(y)\n",
    "new_y = new_y.transpose()\n",
    "df1 = pd.DataFrame(new_y)\n",
    "new_x = np.array(x)\n",
    "new_x = new_x.transpose()\n",
    "df2 = pd.DataFrame(new_x)\n",
    "df1 = df1.rename(columns={0: 'y'}, inplace=False)\n",
    "df2 = df2.rename(columns={0: 'x1', 1: 'x2', 2: 'x3'}, inplace=False)\n",
    "frames = [df1, df2]\n",
    "dataset = pd.concat([df1, df2], axis=1, join=\"inner\")\n",
    "\n",
    "print(dataset.head())\n",
    "print()\n",
    "print(dataset.shape)\n",
    "print()\n",
    "print(dataset.describe())\n",
    "print()\n",
    "\n",
    "x = dataset[['x1', 'x2', 'x3']]\n",
    "y = dataset['y']\n",
    "\n",
    "x_train, x_test, y_train, y_test =\n",
    "    train_test_split(x, y, test_size=0.2, random_state=0)\n",
    "regressor = LinearRegression()\n",
    "regressor.fit(x_train, y_train)\n",
    "coeff_df = pd.DataFrame(regressor.coef_, x.columns, columns=['Coefficient'])\n",
    "\n",
    "print(coeff_df)\n",
    "print()\n",
    "\n",
    "y_pred = regressor.predict(x_test)\n",
    "df = pd.DataFrame({'Actual': y_test,\n",
    "                   'Predicted': y_pred})\n",
    "print(df)\n",
    "print()\n",
    "print('Mean Squared Error:', metrics.mean_squared_error(y_test, y_pred))\n",
    "\n",
    "# Ответ:"
   ],
   "metadata": {
    "colab": {
     "base_uri": "https://localhost:8080/"
    },
    "id": "OfoDZ54XhArO",
    "outputId": "f9fab58c-61db-4df9-cff6-4b0fb4b1f3e1",
    "pycharm": {
     "name": "#%%\n"
    }
   },
   "execution_count": null,
   "outputs": [
    {
     "output_type": "stream",
     "name": "stdout",
     "text": [
      "   y    x1   x2      x3\n",
      "0  5  3.51  9.4  0.9978\n",
      "1  5  3.20  9.8  0.9968\n",
      "2  5  3.26  9.8  0.9970\n",
      "3  6  3.16  9.8  0.9980\n",
      "4  5  3.51  9.4  0.9978\n",
      "\n",
      "(1599, 4)\n",
      "\n",
      "                 y           x1           x2           x3\n",
      "count  1599.000000  1599.000000  1599.000000  1599.000000\n",
      "mean      5.636023     3.311113    10.422983     0.996747\n",
      "std       0.807569     0.154386     1.065668     0.001887\n",
      "min       3.000000     2.740000     8.400000     0.990070\n",
      "25%       5.000000     3.210000     9.500000     0.995600\n",
      "50%       6.000000     3.310000    10.200000     0.996750\n",
      "75%       6.000000     3.400000    11.100000     0.997835\n",
      "max       8.000000     4.010000    14.900000     1.003690\n",
      "\n",
      "    Coefficient\n",
      "x1    -0.821542\n",
      "x2     0.402203\n",
      "x3    15.382387\n",
      "\n",
      "      Actual  Predicted\n",
      "1109       6   5.938915\n",
      "1032       5   5.305409\n",
      "1002       7   6.180197\n",
      "487        6   5.617153\n",
      "979        5   5.790899\n",
      "...      ...        ...\n",
      "794        6   6.578206\n",
      "813        4   5.903352\n",
      "1322       5   6.106185\n",
      "704        4   5.394831\n",
      "1023       6   6.411765\n",
      "\n",
      "[320 rows x 2 columns]\n",
      "\n",
      "Mean Squared Error: 0.4224157728317731\n"
     ]
    }
   ]
  },
  {
   "cell_type": "markdown",
   "source": [
    "**Задание. **\n",
    "\n",
    "**Задача:** Экспериментально получены N − значений величины Y при различных значениях величины X. Построить полиномы первой и второй степени, аппроксимирующие результаты эксперимента, с применением\n",
    "метода наименьших квадратов. Результаты выводятся в виде таблиц значений и графиков, полученных полиномов.\n",
    "\n",
    "**Решение:**"
   ],
   "metadata": {
    "id": "PxlBnvUbYm-w",
    "pycharm": {
     "name": "#%% md\n"
    }
   }
  },
  {
   "cell_type": "code",
   "execution_count": null,
   "outputs": [],
   "source": [
    "from numpy import *\n",
    "import numpy as np\n",
    "import matplotlib.pyplot as plt\n",
    "\n",
    "x = np.array([4.0, 4.2, 4.4, 4.6, 4.8, 5.0])\n",
    "y = np.array([4.0, 3.0, 6.0, 6.0, 4.0, 4.0])\n",
    "\n",
    "a = np.vstack([x, np.ones(len(x))]).T\n",
    "m1, c1 = np.linalg.lstsq(a, y, rcond=None)[0]\n",
    "\n",
    "print(a)\n",
    "print()\n",
    "print(m1)\n",
    "print(c1)\n",
    "print()\n",
    "\n",
    "plt.plot(x, y, 'o', label='Initial data', markersize=7)\n",
    "plt.plot(x, m1 * x + c1, 'r', label='Linear extrapolation')\n",
    "# Polinom from x **2:\n",
    "m2 = np.vstack([x ** 2, x, np.ones(len(x))]).T\n",
    "s2 = np.linalg.lstsq(m2, y, rcond=None)[0]\n",
    "\n",
    "print(m2)\n",
    "print('')\n",
    "print(s2[0])\n",
    "print(s2[1])\n",
    "print(s2[2])\n",
    "print()\n",
    "\n",
    "x_prec_1 = linspace(np.amin(x), np.amax(x), 101)\n",
    "plt.plot(x, y, 'D')\n",
    "plt.plot(x_prec_1, s2[0] * x_prec_1 ** 2 + s2[1] * x_prec_1 +\n",
    "         s2[2], '-', label='Quadratic extrapolation', lw=2)\n",
    "plt.grid()\n",
    "# Polinom from x **3:\n",
    "m3 = vstack((x ** 3, x ** 2, x, np.ones(len(x)))).T\n",
    "s3: object = np.linalg.lstsq(m3, y, rcond=None)[0]\n",
    "\n",
    "print(m3)\n",
    "print()\n",
    "print(s3[0])\n",
    "print(s3[1])\n",
    "print(s3[2])\n",
    "print(s3[3])\n",
    "print()\n",
    "\n",
    "x_prec_2 = linspace(np.amin(x), np.amax(x), 101)\n",
    "plt.plot(x, y, 'D')\n",
    "plt.plot(x_prec_2, s3[0] * x_prec_2 ** 3 + s3[1] * x_prec_2 ** 2 +\n",
    "         s3[2] * x_prec_2 + s3[3], '-', label='Cubic extrapolation', lw=3)\n",
    "plt.grid()\n",
    "plt.legend()\n",
    "plt.show()\n",
    "\n",
    "# Ответ:"
   ],
   "metadata": {
    "collapsed": false,
    "pycharm": {
     "name": "#%%\n"
    }
   }
  }
 ]
}